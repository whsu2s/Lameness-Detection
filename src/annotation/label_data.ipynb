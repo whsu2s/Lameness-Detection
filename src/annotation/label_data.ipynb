{
 "cells": [
  {
   "cell_type": "markdown",
   "metadata": {
    "colab_type": "text",
    "id": "RK255E7YoEIt"
   },
   "source": [
    "# DeepLabCut Toolbox\n",
    "https://github.com/AlexEMG/DeepLabCut\n",
    "\n",
    "Nath\\*, Mathis\\* et al. *Using DeepLabCut for markerless pose estimation during behavior across species*, (under revision).\n",
    "\n",
    "This notebook demonstrates the necessary steps to use DeepLabCut for your own project.\n",
    "This shows the most simple code to do so, but many of the functions have additional features, so please check out the overview & the protocol paper!\n",
    "\n",
    "This notebook illustrates how to:\n",
    "- create a project\n",
    "- extract training frames\n",
    "- label the frames\n",
    "- plot the labeled images\n",
    "- create a training set\n",
    "- train a network\n",
    "- evaluate a network\n",
    "- analyze a novel video\n",
    "- create an automatically labeled video \n",
    "- plot the trajectories\n",
    "\n",
    "*Note*: Refine a network based after the network was trained on just a few labeled images is illustrated in \"Demo-labeledexample-MouseReaching.ipynb\". This demo also contains an already labeled data set and is perhaps the best starting point for brand new users."
   ]
  },
  {
   "cell_type": "markdown",
   "metadata": {
    "colab_type": "text",
    "id": "9Uoz9mdPoEIy"
   },
   "source": [
    "## Create a new project\n",
    "\n",
    "It is always good idea to keep the projects seperate. This function creates a new project with subdirectories and a basic configuration file in the user defined directory otherwise the project is created in the current working directory.\n",
    "\n",
    "You can always add new videos to the project at any stage of the project. "
   ]
  },
  {
   "cell_type": "code",
   "execution_count": 1,
   "metadata": {
    "colab": {},
    "colab_type": "code",
    "id": "jqLZhp7EoEI0"
   },
   "outputs": [],
   "source": [
    "import deeplabcut"
   ]
  },
  {
   "cell_type": "code",
   "execution_count": 10,
   "metadata": {
    "colab": {},
    "colab_type": "code",
    "id": "c9DjG55FoEI7"
   },
   "outputs": [
    {
     "name": "stdout",
     "output_type": "stream",
     "text": [
      "Created \"/home/wei-chan/Documents/Thesis/src/annotation/Cow_labeling-FKIE-2019-01-02/videos\"\n",
      "Created \"/home/wei-chan/Documents/Thesis/src/annotation/Cow_labeling-FKIE-2019-01-02/labeled-data\"\n",
      "Created \"/home/wei-chan/Documents/Thesis/src/annotation/Cow_labeling-FKIE-2019-01-02/training-datasets\"\n",
      "Created \"/home/wei-chan/Documents/Thesis/src/annotation/Cow_labeling-FKIE-2019-01-02/dlc-models\"\n",
      "Copying the videos\n",
      "data/Tag1/cow1.mp4\n",
      "data/Tag1/cow24.mp4\n",
      "Generated \"/home/wei-chan/Documents/Thesis/src/annotation/Cow_labeling-FKIE-2019-01-02/config.yaml\"\n",
      "\n",
      "A new project with name Cow_labeling-FKIE-2019-01-02 is created at /home/wei-chan/Documents/Thesis/src/annotation and a configurable file (config.yaml) is stored there. Change the parameters in this file to adapt to your project's needs.\n",
      " Once you have changed the configuration file, use the function 'extract_frames' to select frames for labeling.\n",
      ". [OPTIONAL] Use the function 'add_new_videos' to add new videos to your project (at any stage).\n"
     ]
    },
    {
     "data": {
      "text/plain": [
       "'/home/wei-chan/Documents/Thesis/src/annotation/Cow_labeling-FKIE-2019-01-02/config.yaml'"
      ]
     },
     "execution_count": 10,
     "metadata": {},
     "output_type": "execute_result"
    }
   ],
   "source": [
    "task = 'Cow_labeling' # Enter the name of your experiment Task\n",
    "experimenter = 'FKIE' # Enter the name of the experimenter\n",
    "video = ['data/Tag1/cow1.mp4', 'data/Tag1/cow24.mp4'] # Enter the paths of your videos you want to grab frames from.\n",
    "\n",
    "deeplabcut.create_new_project(task,experimenter,video, working_directory='/home/wei-chan/Documents/Thesis/src/annotation', copy_videos=True) #change the working directory to where you want the folders created."
   ]
  },
  {
   "cell_type": "markdown",
   "metadata": {
    "colab_type": "text",
    "id": "0yXW0bx1oEJA"
   },
   "source": [
    "## Extract frames from videos \n",
    "A key point for a successful feature detector is to select diverse frames, which are typical for the behavior you study that should be labeled.\n",
    "\n",
    "This function selects N frames either uniformly sampled from a particular video (or folder) (algo=='uniform'). Note: this might not yield diverse frames, if the behavior is sparsely distributed (consider using kmeans), and/or select frames manually etc.\n",
    "\n",
    "Also make sure to get select data from different (behavioral) sessions and different animals if those vary substantially (to train an invariant feature detector).\n",
    "\n",
    "Individual images should not be too big (i.e. < 850 x 850 pixel). Although this can be taken care of later as well, it is advisable to crop the frames, to remove unnecessary parts of the frame as much as possible.\n",
    "\n",
    "Always check the output of cropping. If you are happy with the results proceed to labeling."
   ]
  },
  {
   "cell_type": "code",
   "execution_count": 11,
   "metadata": {
    "colab": {},
    "colab_type": "code",
    "id": "t1ulumCuoEJC"
   },
   "outputs": [
    {
     "name": "stderr",
     "output_type": "stream",
     "text": [
      "38it [00:00, 373.66it/s]"
     ]
    },
    {
     "name": "stdout",
     "output_type": "stream",
     "text": [
      "Reading config file successfully...\n",
      "Extracting frames based on kmeans ...\n",
      "Kmeans-quantization based extracting of frames from 0.0  seconds to 9.3  seconds.\n",
      "Extracting and downsampling... 186  frames from the video.\n"
     ]
    },
    {
     "name": "stderr",
     "output_type": "stream",
     "text": [
      "186it [00:00, 363.99it/s]\n"
     ]
    },
    {
     "name": "stdout",
     "output_type": "stream",
     "text": [
      "Kmeans clustering ... (this might take a while)\n"
     ]
    },
    {
     "name": "stderr",
     "output_type": "stream",
     "text": [
      "37it [00:00, 364.09it/s]"
     ]
    },
    {
     "name": "stdout",
     "output_type": "stream",
     "text": [
      "Extracting frames based on kmeans ...\n",
      "Kmeans-quantization based extracting of frames from 0.0  seconds to 6.1  seconds.\n",
      "Extracting and downsampling... 122  frames from the video.\n"
     ]
    },
    {
     "name": "stderr",
     "output_type": "stream",
     "text": [
      "122it [00:00, 343.43it/s]\n"
     ]
    },
    {
     "name": "stdout",
     "output_type": "stream",
     "text": [
      "Kmeans clustering ... (this might take a while)\n",
      "\n",
      "Frames are selected.\n",
      "You can now label the frames using the function 'label_frames'.\n"
     ]
    }
   ],
   "source": [
    "%matplotlib inline\n",
    "path_config_file = '/home/wei-chan/Documents/Thesis/src/annotation/Cow_labeling-FKIE-2019-01-02/config.yaml' # Enter the path of the config file that was just created from the above step (check the folder)\n",
    "deeplabcut.extract_frames(path_config_file,'automatic','kmeans', crop=False) #there are other ways to grab frames, such as by clustering 'kmeans'; please see the paper. \n",
    "#You can change the cropping to false, then delete the checkcropping part!"
   ]
  },
  {
   "cell_type": "markdown",
   "metadata": {
    "colab_type": "text",
    "id": "Gjn6ZDonoEJH"
   },
   "source": [
    "## Label the extracted frames\n",
    "Only videos in the config file can be used to extract the frames. Extracted labels for each video are stored in the project directory under the subdirectory **'labeled-data'**. Each subdirectory is named after the name of the video. The toolbox has a labeling toolbox which could be used for labeling. "
   ]
  },
  {
   "cell_type": "code",
   "execution_count": 2,
   "metadata": {},
   "outputs": [],
   "source": [
    "path_config_file = '/home/wei-chan/Documents/Thesis/src/annotation/Cow_labeling-FKIE-2019-01-02/config.yaml'"
   ]
  },
  {
   "cell_type": "code",
   "execution_count": null,
   "metadata": {
    "colab": {},
    "colab_type": "code",
    "id": "iyROSOiEoEJI"
   },
   "outputs": [
    {
     "name": "stdout",
     "output_type": "stream",
     "text": [
      "Working on folder: cow1\n",
      "Working on folder: cow24\n",
      "Working on folder: cow24\n"
     ]
    }
   ],
   "source": [
    "%gui wx\n",
    "deeplabcut.label_frames(path_config_file)"
   ]
  },
  {
   "cell_type": "markdown",
   "metadata": {
    "colab_type": "text",
    "id": "vim95ZvkPSeN"
   },
   "source": [
    "**Check the labels**\n",
    "\n",
    "Checking if the labels were created and stored correctly is beneficial for training, since labeling is one of the most critical parts for creating the training dataset. The DeepLabCut toolbox provides a function `check\\_labels'  to do so. It is used as follows:"
   ]
  },
  {
   "cell_type": "code",
   "execution_count": 4,
   "metadata": {
    "colab": {},
    "colab_type": "code",
    "id": "NwvgPJouPP2O"
   },
   "outputs": [
    {
     "name": "stdout",
     "output_type": "stream",
     "text": [
      "Creating images with labels by FKIE.\n",
      "They are stored in the following folder: /home/wei-chan/Documents/Thesis/src/annotation/Cow_labeling-FKIE-2019-01-02/labeled-data/cow1_labeled.\n",
      "They are stored in the following folder: /home/wei-chan/Documents/Thesis/src/annotation/Cow_labeling-FKIE-2019-01-02/labeled-data/cow24_labeled.\n",
      "If all the labels are ok, then use the function 'create_training_dataset' to create the training dataset!\n"
     ]
    }
   ],
   "source": [
    "deeplabcut.check_labels(path_config_file) #this creates a subdirectory with the frames + your labels"
   ]
  },
  {
   "cell_type": "markdown",
   "metadata": {
    "colab_type": "text",
    "id": "of87fOjgPqzH"
   },
   "source": [
    "If the labels need adjusted, you can use the refinement GUI to move them around! Check that out below."
   ]
  },
  {
   "cell_type": "markdown",
   "metadata": {
    "colab_type": "text",
    "id": "xNi9s1dboEJN"
   },
   "source": [
    "## Create a training dataset\n",
    "This function generates the training data information for DeepCut (which requires a mat file) based on the pandas dataframes that hold label information. The user can set the fraction of the training set size (from all labeled image in the hd5 file) in the config.yaml file. While creating the dataset, the user can create multiple shuffles. \n",
    "\n",
    "After running this script the training dataset is created and saved in the project directory under the subdirectory **'training-datasets'**\n",
    "\n",
    "This function also creates new subdirectories under **dlc-models** and appends the project config.yaml file with the correct path to the training and testing pose configuration file. These files hold the parameters for training the network. Such an example file is provided with the toolbox and named as **pose_cfg.yaml**.\n",
    "\n",
    "Now it is the time to start training the network!"
   ]
  },
  {
   "cell_type": "code",
   "execution_count": 5,
   "metadata": {
    "colab": {},
    "colab_type": "code",
    "id": "eMeUwgxPoEJP",
    "scrolled": true
   },
   "outputs": [
    {
     "name": "stdout",
     "output_type": "stream",
     "text": [
      "Downloading the pretrained model (ResNets)....\n",
      "The training dataset is successfully created. Use the function 'train_network' to start training. Happy training!\n"
     ]
    }
   ],
   "source": [
    "deeplabcut.create_training_dataset(path_config_file)"
   ]
  },
  {
   "cell_type": "markdown",
   "metadata": {
    "colab_type": "text",
    "id": "c4FczXGDoEJU"
   },
   "source": [
    "## Start training - If you want to use a CPU, continue. \n",
    "### If yu want to use your GPU, you need to exit here and either work from the Docker container, your own TensorFlow installation in an Anaconda env\n",
    "\n",
    "This function trains the network for a specific shuffle of the training dataset. "
   ]
  },
  {
   "cell_type": "code",
   "execution_count": 7,
   "metadata": {
    "colab": {},
    "colab_type": "code",
    "id": "_pOvDq_2oEJW"
   },
   "outputs": [
    {
     "name": "stderr",
     "output_type": "stream",
     "text": [
      "Config:\n",
      "{'all_joints': [[0], [1], [2], [3], [4], [5], [6], [7], [8], [9]],\n",
      " 'all_joints_names': ['head',\n",
      "                      'neck',\n",
      "                      'withers',\n",
      "                      'back1',\n",
      "                      'back2',\n",
      "                      'back3',\n",
      "                      'hoofFL',\n",
      "                      'hoofFR',\n",
      "                      'hoofHL',\n",
      "                      'hoofHR'],\n",
      " 'batch_size': 1,\n",
      " 'bottomheight': 400,\n",
      " 'crop': True,\n",
      " 'crop_pad': 0,\n",
      " 'cropratio': 0.4,\n",
      " 'dataset': 'training-datasets/iteration-0/UnaugmentedDataSet_Cow_labelingJan2/Cow_labeling_FKIE90shuffle1.mat',\n",
      " 'dataset_type': 'default',\n",
      " 'display_iters': 500,\n",
      " 'fg_fraction': 0.25,\n",
      " 'global_scale': 0.8,\n",
      " 'init_weights': '/home/wei-chan/anaconda3/lib/python3.6/site-packages/deeplabcut/pose_estimation_tensorflow/models/pretrained/resnet_v1_50.ckpt',\n",
      " 'intermediate_supervision': False,\n",
      " 'intermediate_supervision_layer': 12,\n",
      " 'leftwidth': 400,\n",
      " 'location_refinement': True,\n",
      " 'locref_huber_loss': True,\n",
      " 'locref_loss_weight': 0.05,\n",
      " 'locref_stdev': 7.2801,\n",
      " 'log_dir': 'log',\n",
      " 'max_input_size': 1000,\n",
      " 'mean_pixel': [123.68, 116.779, 103.939],\n",
      " 'metadataset': 'training-datasets/iteration-0/UnaugmentedDataSet_Cow_labelingJan2/Documentation_data-Cow_labeling_90shuffle1.pickle',\n",
      " 'minsize': 100,\n",
      " 'mirror': False,\n",
      " 'multi_step': [[0.005, 10000],\n",
      "                [0.02, 430000],\n",
      "                [0.002, 730000],\n",
      "                [0.001, 1030000]],\n",
      " 'net_type': 'resnet_50',\n",
      " 'num_joints': 10,\n",
      " 'optimizer': 'sgd',\n",
      " 'pos_dist_thresh': 17,\n",
      " 'project_path': '/home/wei-chan/Documents/Thesis/src/annotation/Cow_labeling-FKIE-2019-01-02',\n",
      " 'regularize': False,\n",
      " 'rightwidth': 400,\n",
      " 'save_iters': 1000,\n",
      " 'scale_jitter_lo': 0.5,\n",
      " 'scale_jitter_up': 1.25,\n",
      " 'scoremap_dir': 'test',\n",
      " 'shuffle': True,\n",
      " 'snapshot_prefix': '/home/wei-chan/Documents/Thesis/src/annotation/Cow_labeling-FKIE-2019-01-02/dlc-models/iteration-0/Cow_labelingJan2-trainset90shuffle1/train/snapshot',\n",
      " 'stride': 8.0,\n",
      " 'topheight': 400,\n",
      " 'use_gt_segm': False,\n",
      " 'video': False,\n",
      " 'video_batch': False,\n",
      " 'weigh_negatives': False,\n",
      " 'weigh_only_present_joints': False,\n",
      " 'weigh_part_predictions': False,\n",
      " 'weight_decay': 0.0001}\n",
      "Config:\n",
      "{'all_joints': [[0], [1], [2], [3], [4], [5], [6], [7], [8], [9]],\n",
      " 'all_joints_names': ['head',\n",
      "                      'neck',\n",
      "                      'withers',\n",
      "                      'back1',\n",
      "                      'back2',\n",
      "                      'back3',\n",
      "                      'hoofFL',\n",
      "                      'hoofFR',\n",
      "                      'hoofHL',\n",
      "                      'hoofHR'],\n",
      " 'batch_size': 1,\n",
      " 'bottomheight': 400,\n",
      " 'crop': True,\n",
      " 'crop_pad': 0,\n",
      " 'cropratio': 0.4,\n",
      " 'dataset': 'training-datasets/iteration-0/UnaugmentedDataSet_Cow_labelingJan2/Cow_labeling_FKIE90shuffle1.mat',\n",
      " 'dataset_type': 'default',\n",
      " 'display_iters': 500,\n",
      " 'fg_fraction': 0.25,\n",
      " 'global_scale': 0.8,\n",
      " 'init_weights': '/home/wei-chan/anaconda3/lib/python3.6/site-packages/deeplabcut/pose_estimation_tensorflow/models/pretrained/resnet_v1_50.ckpt',\n",
      " 'intermediate_supervision': False,\n",
      " 'intermediate_supervision_layer': 12,\n",
      " 'leftwidth': 400,\n",
      " 'location_refinement': True,\n",
      " 'locref_huber_loss': True,\n",
      " 'locref_loss_weight': 0.05,\n",
      " 'locref_stdev': 7.2801,\n",
      " 'log_dir': 'log',\n",
      " 'max_input_size': 1000,\n",
      " 'mean_pixel': [123.68, 116.779, 103.939],\n",
      " 'metadataset': 'training-datasets/iteration-0/UnaugmentedDataSet_Cow_labelingJan2/Documentation_data-Cow_labeling_90shuffle1.pickle',\n",
      " 'minsize': 100,\n",
      " 'mirror': False,\n",
      " 'multi_step': [[0.005, 10000],\n",
      "                [0.02, 430000],\n",
      "                [0.002, 730000],\n",
      "                [0.001, 1030000]],\n",
      " 'net_type': 'resnet_50',\n",
      " 'num_joints': 10,\n",
      " 'optimizer': 'sgd',\n",
      " 'pos_dist_thresh': 17,\n",
      " 'project_path': '/home/wei-chan/Documents/Thesis/src/annotation/Cow_labeling-FKIE-2019-01-02',\n",
      " 'regularize': False,\n",
      " 'rightwidth': 400,\n",
      " 'save_iters': 1000,\n",
      " 'scale_jitter_lo': 0.5,\n",
      " 'scale_jitter_up': 1.25,\n",
      " 'scoremap_dir': 'test',\n",
      " 'shuffle': True,\n",
      " 'snapshot_prefix': '/home/wei-chan/Documents/Thesis/src/annotation/Cow_labeling-FKIE-2019-01-02/dlc-models/iteration-0/Cow_labelingJan2-trainset90shuffle1/train/snapshot',\n",
      " 'stride': 8.0,\n",
      " 'topheight': 400,\n",
      " 'use_gt_segm': False,\n",
      " 'video': False,\n",
      " 'video_batch': False,\n",
      " 'weigh_negatives': False,\n",
      " 'weigh_only_present_joints': False,\n",
      " 'weigh_part_predictions': False,\n",
      " 'weight_decay': 0.0001}\n"
     ]
    },
    {
     "name": "stdout",
     "output_type": "stream",
     "text": [
      "INFO:tensorflow:Restoring parameters from /home/wei-chan/anaconda3/lib/python3.6/site-packages/deeplabcut/pose_estimation_tensorflow/models/pretrained/resnet_v1_50.ckpt\n"
     ]
    },
    {
     "name": "stderr",
     "output_type": "stream",
     "text": [
      "Restoring parameters from /home/wei-chan/anaconda3/lib/python3.6/site-packages/deeplabcut/pose_estimation_tensorflow/models/pretrained/resnet_v1_50.ckpt\n",
      "Restoring parameters from /home/wei-chan/anaconda3/lib/python3.6/site-packages/deeplabcut/pose_estimation_tensorflow/models/pretrained/resnet_v1_50.ckpt\n"
     ]
    },
    {
     "name": "stdout",
     "output_type": "stream",
     "text": [
      "Training parameter:\n",
      "{'stride': 8.0, 'weigh_part_predictions': False, 'weigh_negatives': False, 'fg_fraction': 0.25, 'weigh_only_present_joints': False, 'mean_pixel': [123.68, 116.779, 103.939], 'shuffle': True, 'snapshot_prefix': '/home/wei-chan/Documents/Thesis/src/annotation/Cow_labeling-FKIE-2019-01-02/dlc-models/iteration-0/Cow_labelingJan2-trainset90shuffle1/train/snapshot', 'log_dir': 'log', 'global_scale': 0.8, 'location_refinement': True, 'locref_stdev': 7.2801, 'locref_loss_weight': 0.05, 'locref_huber_loss': True, 'optimizer': 'sgd', 'intermediate_supervision': False, 'intermediate_supervision_layer': 12, 'regularize': False, 'weight_decay': 0.0001, 'mirror': False, 'crop_pad': 0, 'scoremap_dir': 'test', 'dataset_type': 'default', 'use_gt_segm': False, 'batch_size': 1, 'video': False, 'video_batch': False, 'crop': True, 'cropratio': 0.4, 'minsize': 100, 'leftwidth': 400, 'rightwidth': 400, 'topheight': 400, 'bottomheight': 400, 'all_joints': [[0], [1], [2], [3], [4], [5], [6], [7], [8], [9]], 'all_joints_names': ['head', 'neck', 'withers', 'back1', 'back2', 'back3', 'hoofFL', 'hoofFR', 'hoofHL', 'hoofHR'], 'dataset': 'training-datasets/iteration-0/UnaugmentedDataSet_Cow_labelingJan2/Cow_labeling_FKIE90shuffle1.mat', 'display_iters': 500, 'init_weights': '/home/wei-chan/anaconda3/lib/python3.6/site-packages/deeplabcut/pose_estimation_tensorflow/models/pretrained/resnet_v1_50.ckpt', 'max_input_size': 1000, 'metadataset': 'training-datasets/iteration-0/UnaugmentedDataSet_Cow_labelingJan2/Documentation_data-Cow_labeling_90shuffle1.pickle', 'multi_step': [[0.005, 10000], [0.02, 430000], [0.002, 730000], [0.001, 1030000]], 'net_type': 'resnet_50', 'num_joints': 10, 'pos_dist_thresh': 17, 'project_path': '/home/wei-chan/Documents/Thesis/src/annotation/Cow_labeling-FKIE-2019-01-02', 'save_iters': 1000, 'scale_jitter_lo': 0.5, 'scale_jitter_up': 1.25}\n",
      "Starting training....\n"
     ]
    },
    {
     "name": "stderr",
     "output_type": "stream",
     "text": [
      "iteration: 500 loss: 0.0399 lr: 0.005\n",
      "iteration: 500 loss: 0.0399 lr: 0.005\n",
      "iteration: 1000 loss: 0.0193 lr: 0.005\n",
      "iteration: 1000 loss: 0.0193 lr: 0.005\n",
      "iteration: 1500 loss: 0.0153 lr: 0.005\n",
      "iteration: 1500 loss: 0.0153 lr: 0.005\n",
      "iteration: 2000 loss: 0.0129 lr: 0.005\n",
      "iteration: 2000 loss: 0.0129 lr: 0.005\n",
      "iteration: 2500 loss: 0.0111 lr: 0.005\n",
      "iteration: 2500 loss: 0.0111 lr: 0.005\n",
      "iteration: 3000 loss: 0.0104 lr: 0.005\n",
      "iteration: 3000 loss: 0.0104 lr: 0.005\n",
      "iteration: 3500 loss: 0.0092 lr: 0.005\n",
      "iteration: 3500 loss: 0.0092 lr: 0.005\n",
      "iteration: 4000 loss: 0.0087 lr: 0.005\n",
      "iteration: 4000 loss: 0.0087 lr: 0.005\n",
      "iteration: 4500 loss: 0.0080 lr: 0.005\n",
      "iteration: 4500 loss: 0.0080 lr: 0.005\n",
      "iteration: 5000 loss: 0.0075 lr: 0.005\n",
      "iteration: 5000 loss: 0.0075 lr: 0.005\n",
      "iteration: 5500 loss: 0.0071 lr: 0.005\n",
      "iteration: 5500 loss: 0.0071 lr: 0.005\n",
      "iteration: 6000 loss: 0.0066 lr: 0.005\n",
      "iteration: 6000 loss: 0.0066 lr: 0.005\n",
      "iteration: 6500 loss: 0.0064 lr: 0.005\n",
      "iteration: 6500 loss: 0.0064 lr: 0.005\n",
      "iteration: 7000 loss: 0.0060 lr: 0.005\n",
      "iteration: 7000 loss: 0.0060 lr: 0.005\n",
      "iteration: 7500 loss: 0.0059 lr: 0.005\n",
      "iteration: 7500 loss: 0.0059 lr: 0.005\n",
      "iteration: 8000 loss: 0.0058 lr: 0.005\n",
      "iteration: 8000 loss: 0.0058 lr: 0.005\n",
      "iteration: 8500 loss: 0.0056 lr: 0.005\n",
      "iteration: 8500 loss: 0.0056 lr: 0.005\n",
      "iteration: 9000 loss: 0.0054 lr: 0.005\n",
      "iteration: 9000 loss: 0.0054 lr: 0.005\n",
      "iteration: 9500 loss: 0.0054 lr: 0.005\n",
      "iteration: 9500 loss: 0.0054 lr: 0.005\n",
      "iteration: 10000 loss: 0.0051 lr: 0.005\n",
      "iteration: 10000 loss: 0.0051 lr: 0.005\n",
      "iteration: 10500 loss: 0.0074 lr: 0.02\n",
      "iteration: 10500 loss: 0.0074 lr: 0.02\n",
      "iteration: 11000 loss: 0.0072 lr: 0.02\n",
      "iteration: 11000 loss: 0.0072 lr: 0.02\n",
      "iteration: 11500 loss: 0.0059 lr: 0.02\n",
      "iteration: 11500 loss: 0.0059 lr: 0.02\n",
      "iteration: 12000 loss: 0.0056 lr: 0.02\n",
      "iteration: 12000 loss: 0.0056 lr: 0.02\n",
      "iteration: 12500 loss: 0.0054 lr: 0.02\n",
      "iteration: 12500 loss: 0.0054 lr: 0.02\n",
      "iteration: 13000 loss: 0.0047 lr: 0.02\n",
      "iteration: 13000 loss: 0.0047 lr: 0.02\n",
      "iteration: 13500 loss: 0.0044 lr: 0.02\n",
      "iteration: 13500 loss: 0.0044 lr: 0.02\n",
      "iteration: 14000 loss: 0.0043 lr: 0.02\n",
      "iteration: 14000 loss: 0.0043 lr: 0.02\n",
      "iteration: 14500 loss: 0.0042 lr: 0.02\n",
      "iteration: 14500 loss: 0.0042 lr: 0.02\n",
      "iteration: 15000 loss: 0.0041 lr: 0.02\n",
      "iteration: 15000 loss: 0.0041 lr: 0.02\n",
      "iteration: 15500 loss: 0.0040 lr: 0.02\n",
      "iteration: 15500 loss: 0.0040 lr: 0.02\n",
      "iteration: 16000 loss: 0.0038 lr: 0.02\n",
      "iteration: 16000 loss: 0.0038 lr: 0.02\n",
      "iteration: 16500 loss: 0.0038 lr: 0.02\n",
      "iteration: 16500 loss: 0.0038 lr: 0.02\n",
      "iteration: 17000 loss: 0.0035 lr: 0.02\n",
      "iteration: 17000 loss: 0.0035 lr: 0.02\n",
      "iteration: 17500 loss: 0.0035 lr: 0.02\n",
      "iteration: 17500 loss: 0.0035 lr: 0.02\n",
      "iteration: 18000 loss: 0.0034 lr: 0.02\n",
      "iteration: 18000 loss: 0.0034 lr: 0.02\n",
      "iteration: 18500 loss: 0.0032 lr: 0.02\n",
      "iteration: 18500 loss: 0.0032 lr: 0.02\n",
      "iteration: 19000 loss: 0.0032 lr: 0.02\n",
      "iteration: 19000 loss: 0.0032 lr: 0.02\n",
      "iteration: 19500 loss: 0.0033 lr: 0.02\n",
      "iteration: 19500 loss: 0.0033 lr: 0.02\n",
      "iteration: 20000 loss: 0.0031 lr: 0.02\n",
      "iteration: 20000 loss: 0.0031 lr: 0.02\n",
      "iteration: 20500 loss: 0.0032 lr: 0.02\n",
      "iteration: 20500 loss: 0.0032 lr: 0.02\n",
      "iteration: 21000 loss: 0.0032 lr: 0.02\n",
      "iteration: 21000 loss: 0.0032 lr: 0.02\n"
     ]
    },
    {
     "ename": "KeyboardInterrupt",
     "evalue": "",
     "output_type": "error",
     "traceback": [
      "\u001b[0;31m---------------------------------------------------------------------------\u001b[0m",
      "\u001b[0;31mKeyboardInterrupt\u001b[0m                         Traceback (most recent call last)",
      "\u001b[0;32m<ipython-input-7-0dc5cb6e2491>\u001b[0m in \u001b[0;36m<module>\u001b[0;34m()\u001b[0m\n\u001b[0;32m----> 1\u001b[0;31m \u001b[0mdeeplabcut\u001b[0m\u001b[0;34m.\u001b[0m\u001b[0mtrain_network\u001b[0m\u001b[0;34m(\u001b[0m\u001b[0mpath_config_file\u001b[0m\u001b[0;34m,\u001b[0m \u001b[0mgputouse\u001b[0m\u001b[0;34m=\u001b[0m\u001b[0;36m0\u001b[0m\u001b[0;34m)\u001b[0m\u001b[0;34m\u001b[0m\u001b[0m\n\u001b[0m",
      "\u001b[0;32m/home/wei-chan/anaconda3/lib/python3.6/site-packages/deeplabcut/pose_estimation_tensorflow/training.py\u001b[0m in \u001b[0;36mtrain_network\u001b[0;34m(config, shuffle, trainingsetindex, gputouse, max_snapshots_to_keep, autotune, displayiters, saveiters, maxiters)\u001b[0m\n\u001b[1;32m     79\u001b[0m           \u001b[0mtrain\u001b[0m\u001b[0;34m(\u001b[0m\u001b[0mstr\u001b[0m\u001b[0;34m(\u001b[0m\u001b[0mposeconfigfile\u001b[0m\u001b[0;34m)\u001b[0m\u001b[0;34m,\u001b[0m\u001b[0mdisplayiters\u001b[0m\u001b[0;34m,\u001b[0m\u001b[0msaveiters\u001b[0m\u001b[0;34m,\u001b[0m\u001b[0mmaxiters\u001b[0m\u001b[0;34m,\u001b[0m\u001b[0mmax_to_keep\u001b[0m\u001b[0;34m=\u001b[0m\u001b[0mmax_snapshots_to_keep\u001b[0m\u001b[0;34m)\u001b[0m \u001b[0;31m#pass on path and file name for pose_cfg.yaml!\u001b[0m\u001b[0;34m\u001b[0m\u001b[0m\n\u001b[1;32m     80\u001b[0m       \u001b[0;32mexcept\u001b[0m \u001b[0mBaseException\u001b[0m \u001b[0;32mas\u001b[0m \u001b[0me\u001b[0m\u001b[0;34m:\u001b[0m\u001b[0;34m\u001b[0m\u001b[0m\n\u001b[0;32m---> 81\u001b[0;31m           \u001b[0;32mraise\u001b[0m \u001b[0me\u001b[0m\u001b[0;34m\u001b[0m\u001b[0m\n\u001b[0m\u001b[1;32m     82\u001b[0m       \u001b[0;32mfinally\u001b[0m\u001b[0;34m:\u001b[0m\u001b[0;34m\u001b[0m\u001b[0m\n\u001b[1;32m     83\u001b[0m           \u001b[0mos\u001b[0m\u001b[0;34m.\u001b[0m\u001b[0mchdir\u001b[0m\u001b[0;34m(\u001b[0m\u001b[0mstr\u001b[0m\u001b[0;34m(\u001b[0m\u001b[0mstart_path\u001b[0m\u001b[0;34m)\u001b[0m\u001b[0;34m)\u001b[0m\u001b[0;34m\u001b[0m\u001b[0m\n",
      "\u001b[0;32m/home/wei-chan/anaconda3/lib/python3.6/site-packages/deeplabcut/pose_estimation_tensorflow/training.py\u001b[0m in \u001b[0;36mtrain_network\u001b[0;34m(config, shuffle, trainingsetindex, gputouse, max_snapshots_to_keep, autotune, displayiters, saveiters, maxiters)\u001b[0m\n\u001b[1;32m     77\u001b[0m         \u001b[0mos\u001b[0m\u001b[0;34m.\u001b[0m\u001b[0menviron\u001b[0m\u001b[0;34m[\u001b[0m\u001b[0;34m'CUDA_VISIBLE_DEVICES'\u001b[0m\u001b[0;34m]\u001b[0m \u001b[0;34m=\u001b[0m \u001b[0mstr\u001b[0m\u001b[0;34m(\u001b[0m\u001b[0mgputouse\u001b[0m\u001b[0;34m)\u001b[0m\u001b[0;34m\u001b[0m\u001b[0m\n\u001b[1;32m     78\u001b[0m       \u001b[0;32mtry\u001b[0m\u001b[0;34m:\u001b[0m\u001b[0;34m\u001b[0m\u001b[0m\n\u001b[0;32m---> 79\u001b[0;31m           \u001b[0mtrain\u001b[0m\u001b[0;34m(\u001b[0m\u001b[0mstr\u001b[0m\u001b[0;34m(\u001b[0m\u001b[0mposeconfigfile\u001b[0m\u001b[0;34m)\u001b[0m\u001b[0;34m,\u001b[0m\u001b[0mdisplayiters\u001b[0m\u001b[0;34m,\u001b[0m\u001b[0msaveiters\u001b[0m\u001b[0;34m,\u001b[0m\u001b[0mmaxiters\u001b[0m\u001b[0;34m,\u001b[0m\u001b[0mmax_to_keep\u001b[0m\u001b[0;34m=\u001b[0m\u001b[0mmax_snapshots_to_keep\u001b[0m\u001b[0;34m)\u001b[0m \u001b[0;31m#pass on path and file name for pose_cfg.yaml!\u001b[0m\u001b[0;34m\u001b[0m\u001b[0m\n\u001b[0m\u001b[1;32m     80\u001b[0m       \u001b[0;32mexcept\u001b[0m \u001b[0mBaseException\u001b[0m \u001b[0;32mas\u001b[0m \u001b[0me\u001b[0m\u001b[0;34m:\u001b[0m\u001b[0;34m\u001b[0m\u001b[0m\n\u001b[1;32m     81\u001b[0m           \u001b[0;32mraise\u001b[0m \u001b[0me\u001b[0m\u001b[0;34m\u001b[0m\u001b[0m\n",
      "\u001b[0;32m/home/wei-chan/anaconda3/lib/python3.6/site-packages/deeplabcut/pose_estimation_tensorflow/train.py\u001b[0m in \u001b[0;36mtrain\u001b[0;34m(config_yaml, displayiters, saveiters, maxiters, max_to_keep)\u001b[0m\n\u001b[1;32m    140\u001b[0m         \u001b[0mcurrent_lr\u001b[0m \u001b[0;34m=\u001b[0m \u001b[0mlr_gen\u001b[0m\u001b[0;34m.\u001b[0m\u001b[0mget_lr\u001b[0m\u001b[0;34m(\u001b[0m\u001b[0mit\u001b[0m\u001b[0;34m)\u001b[0m\u001b[0;34m\u001b[0m\u001b[0m\n\u001b[1;32m    141\u001b[0m         [_, loss_val, summary] = sess.run([train_op, total_loss, merged_summaries],\n\u001b[0;32m--> 142\u001b[0;31m                                           feed_dict={learning_rate: current_lr})\n\u001b[0m\u001b[1;32m    143\u001b[0m         \u001b[0mcum_loss\u001b[0m \u001b[0;34m+=\u001b[0m \u001b[0mloss_val\u001b[0m\u001b[0;34m\u001b[0m\u001b[0m\n\u001b[1;32m    144\u001b[0m         \u001b[0mtrain_writer\u001b[0m\u001b[0;34m.\u001b[0m\u001b[0madd_summary\u001b[0m\u001b[0;34m(\u001b[0m\u001b[0msummary\u001b[0m\u001b[0;34m,\u001b[0m \u001b[0mit\u001b[0m\u001b[0;34m)\u001b[0m\u001b[0;34m\u001b[0m\u001b[0m\n",
      "\u001b[0;32m/home/wei-chan/anaconda3/lib/python3.6/site-packages/tensorflow/python/client/session.py\u001b[0m in \u001b[0;36mrun\u001b[0;34m(self, fetches, feed_dict, options, run_metadata)\u001b[0m\n\u001b[1;32m    927\u001b[0m     \u001b[0;32mtry\u001b[0m\u001b[0;34m:\u001b[0m\u001b[0;34m\u001b[0m\u001b[0m\n\u001b[1;32m    928\u001b[0m       result = self._run(None, fetches, feed_dict, options_ptr,\n\u001b[0;32m--> 929\u001b[0;31m                          run_metadata_ptr)\n\u001b[0m\u001b[1;32m    930\u001b[0m       \u001b[0;32mif\u001b[0m \u001b[0mrun_metadata\u001b[0m\u001b[0;34m:\u001b[0m\u001b[0;34m\u001b[0m\u001b[0m\n\u001b[1;32m    931\u001b[0m         \u001b[0mproto_data\u001b[0m \u001b[0;34m=\u001b[0m \u001b[0mtf_session\u001b[0m\u001b[0;34m.\u001b[0m\u001b[0mTF_GetBuffer\u001b[0m\u001b[0;34m(\u001b[0m\u001b[0mrun_metadata_ptr\u001b[0m\u001b[0;34m)\u001b[0m\u001b[0;34m\u001b[0m\u001b[0m\n",
      "\u001b[0;32m/home/wei-chan/anaconda3/lib/python3.6/site-packages/tensorflow/python/client/session.py\u001b[0m in \u001b[0;36m_run\u001b[0;34m(self, handle, fetches, feed_dict, options, run_metadata)\u001b[0m\n\u001b[1;32m   1150\u001b[0m     \u001b[0;32mif\u001b[0m \u001b[0mfinal_fetches\u001b[0m \u001b[0;32mor\u001b[0m \u001b[0mfinal_targets\u001b[0m \u001b[0;32mor\u001b[0m \u001b[0;34m(\u001b[0m\u001b[0mhandle\u001b[0m \u001b[0;32mand\u001b[0m \u001b[0mfeed_dict_tensor\u001b[0m\u001b[0;34m)\u001b[0m\u001b[0;34m:\u001b[0m\u001b[0;34m\u001b[0m\u001b[0m\n\u001b[1;32m   1151\u001b[0m       results = self._do_run(handle, final_targets, final_fetches,\n\u001b[0;32m-> 1152\u001b[0;31m                              feed_dict_tensor, options, run_metadata)\n\u001b[0m\u001b[1;32m   1153\u001b[0m     \u001b[0;32melse\u001b[0m\u001b[0;34m:\u001b[0m\u001b[0;34m\u001b[0m\u001b[0m\n\u001b[1;32m   1154\u001b[0m       \u001b[0mresults\u001b[0m \u001b[0;34m=\u001b[0m \u001b[0;34m[\u001b[0m\u001b[0;34m]\u001b[0m\u001b[0;34m\u001b[0m\u001b[0m\n",
      "\u001b[0;32m/home/wei-chan/anaconda3/lib/python3.6/site-packages/tensorflow/python/client/session.py\u001b[0m in \u001b[0;36m_do_run\u001b[0;34m(self, handle, target_list, fetch_list, feed_dict, options, run_metadata)\u001b[0m\n\u001b[1;32m   1326\u001b[0m     \u001b[0;32mif\u001b[0m \u001b[0mhandle\u001b[0m \u001b[0;32mis\u001b[0m \u001b[0;32mNone\u001b[0m\u001b[0;34m:\u001b[0m\u001b[0;34m\u001b[0m\u001b[0m\n\u001b[1;32m   1327\u001b[0m       return self._do_call(_run_fn, feeds, fetches, targets, options,\n\u001b[0;32m-> 1328\u001b[0;31m                            run_metadata)\n\u001b[0m\u001b[1;32m   1329\u001b[0m     \u001b[0;32melse\u001b[0m\u001b[0;34m:\u001b[0m\u001b[0;34m\u001b[0m\u001b[0m\n\u001b[1;32m   1330\u001b[0m       \u001b[0;32mreturn\u001b[0m \u001b[0mself\u001b[0m\u001b[0;34m.\u001b[0m\u001b[0m_do_call\u001b[0m\u001b[0;34m(\u001b[0m\u001b[0m_prun_fn\u001b[0m\u001b[0;34m,\u001b[0m \u001b[0mhandle\u001b[0m\u001b[0;34m,\u001b[0m \u001b[0mfeeds\u001b[0m\u001b[0;34m,\u001b[0m \u001b[0mfetches\u001b[0m\u001b[0;34m)\u001b[0m\u001b[0;34m\u001b[0m\u001b[0m\n",
      "\u001b[0;32m/home/wei-chan/anaconda3/lib/python3.6/site-packages/tensorflow/python/client/session.py\u001b[0m in \u001b[0;36m_do_call\u001b[0;34m(self, fn, *args)\u001b[0m\n\u001b[1;32m   1332\u001b[0m   \u001b[0;32mdef\u001b[0m \u001b[0m_do_call\u001b[0m\u001b[0;34m(\u001b[0m\u001b[0mself\u001b[0m\u001b[0;34m,\u001b[0m \u001b[0mfn\u001b[0m\u001b[0;34m,\u001b[0m \u001b[0;34m*\u001b[0m\u001b[0margs\u001b[0m\u001b[0;34m)\u001b[0m\u001b[0;34m:\u001b[0m\u001b[0;34m\u001b[0m\u001b[0m\n\u001b[1;32m   1333\u001b[0m     \u001b[0;32mtry\u001b[0m\u001b[0;34m:\u001b[0m\u001b[0;34m\u001b[0m\u001b[0m\n\u001b[0;32m-> 1334\u001b[0;31m       \u001b[0;32mreturn\u001b[0m \u001b[0mfn\u001b[0m\u001b[0;34m(\u001b[0m\u001b[0;34m*\u001b[0m\u001b[0margs\u001b[0m\u001b[0;34m)\u001b[0m\u001b[0;34m\u001b[0m\u001b[0m\n\u001b[0m\u001b[1;32m   1335\u001b[0m     \u001b[0;32mexcept\u001b[0m \u001b[0merrors\u001b[0m\u001b[0;34m.\u001b[0m\u001b[0mOpError\u001b[0m \u001b[0;32mas\u001b[0m \u001b[0me\u001b[0m\u001b[0;34m:\u001b[0m\u001b[0;34m\u001b[0m\u001b[0m\n\u001b[1;32m   1336\u001b[0m       \u001b[0mmessage\u001b[0m \u001b[0;34m=\u001b[0m \u001b[0mcompat\u001b[0m\u001b[0;34m.\u001b[0m\u001b[0mas_text\u001b[0m\u001b[0;34m(\u001b[0m\u001b[0me\u001b[0m\u001b[0;34m.\u001b[0m\u001b[0mmessage\u001b[0m\u001b[0;34m)\u001b[0m\u001b[0;34m\u001b[0m\u001b[0m\n",
      "\u001b[0;32m/home/wei-chan/anaconda3/lib/python3.6/site-packages/tensorflow/python/client/session.py\u001b[0m in \u001b[0;36m_run_fn\u001b[0;34m(feed_dict, fetch_list, target_list, options, run_metadata)\u001b[0m\n\u001b[1;32m   1317\u001b[0m       \u001b[0mself\u001b[0m\u001b[0;34m.\u001b[0m\u001b[0m_extend_graph\u001b[0m\u001b[0;34m(\u001b[0m\u001b[0;34m)\u001b[0m\u001b[0;34m\u001b[0m\u001b[0m\n\u001b[1;32m   1318\u001b[0m       return self._call_tf_sessionrun(\n\u001b[0;32m-> 1319\u001b[0;31m           options, feed_dict, fetch_list, target_list, run_metadata)\n\u001b[0m\u001b[1;32m   1320\u001b[0m \u001b[0;34m\u001b[0m\u001b[0m\n\u001b[1;32m   1321\u001b[0m     \u001b[0;32mdef\u001b[0m \u001b[0m_prun_fn\u001b[0m\u001b[0;34m(\u001b[0m\u001b[0mhandle\u001b[0m\u001b[0;34m,\u001b[0m \u001b[0mfeed_dict\u001b[0m\u001b[0;34m,\u001b[0m \u001b[0mfetch_list\u001b[0m\u001b[0;34m)\u001b[0m\u001b[0;34m:\u001b[0m\u001b[0;34m\u001b[0m\u001b[0m\n",
      "\u001b[0;32m/home/wei-chan/anaconda3/lib/python3.6/site-packages/tensorflow/python/client/session.py\u001b[0m in \u001b[0;36m_call_tf_sessionrun\u001b[0;34m(self, options, feed_dict, fetch_list, target_list, run_metadata)\u001b[0m\n\u001b[1;32m   1405\u001b[0m     return tf_session.TF_SessionRun_wrapper(\n\u001b[1;32m   1406\u001b[0m         \u001b[0mself\u001b[0m\u001b[0;34m.\u001b[0m\u001b[0m_session\u001b[0m\u001b[0;34m,\u001b[0m \u001b[0moptions\u001b[0m\u001b[0;34m,\u001b[0m \u001b[0mfeed_dict\u001b[0m\u001b[0;34m,\u001b[0m \u001b[0mfetch_list\u001b[0m\u001b[0;34m,\u001b[0m \u001b[0mtarget_list\u001b[0m\u001b[0;34m,\u001b[0m\u001b[0;34m\u001b[0m\u001b[0m\n\u001b[0;32m-> 1407\u001b[0;31m         run_metadata)\n\u001b[0m\u001b[1;32m   1408\u001b[0m \u001b[0;34m\u001b[0m\u001b[0m\n\u001b[1;32m   1409\u001b[0m   \u001b[0;32mdef\u001b[0m \u001b[0m_call_tf_sessionprun\u001b[0m\u001b[0;34m(\u001b[0m\u001b[0mself\u001b[0m\u001b[0;34m,\u001b[0m \u001b[0mhandle\u001b[0m\u001b[0;34m,\u001b[0m \u001b[0mfeed_dict\u001b[0m\u001b[0;34m,\u001b[0m \u001b[0mfetch_list\u001b[0m\u001b[0;34m)\u001b[0m\u001b[0;34m:\u001b[0m\u001b[0;34m\u001b[0m\u001b[0m\n",
      "\u001b[0;31mKeyboardInterrupt\u001b[0m: "
     ]
    }
   ],
   "source": [
    "deeplabcut.train_network(path_config_file, gputouse=0)"
   ]
  },
  {
   "cell_type": "markdown",
   "metadata": {
    "colab_type": "text",
    "id": "xZygsb2DoEJc"
   },
   "source": [
    "## Start evaluating\n",
    "This funtion evaluates a trained model for a specific shuffle/shuffles at a particular state or all the states on the data set (images)\n",
    "and stores the results as .csv file in a subdirectory under **evaluation-results**"
   ]
  },
  {
   "cell_type": "code",
   "execution_count": 8,
   "metadata": {
    "colab": {},
    "colab_type": "code",
    "id": "nv4zlbrnoEJg"
   },
   "outputs": [
    {
     "name": "stderr",
     "output_type": "stream",
     "text": [
      "Config:\n",
      "{'all_joints': [[0], [1], [2], [3], [4], [5], [6], [7], [8], [9]],\n",
      " 'all_joints_names': ['head',\n",
      "                      'neck',\n",
      "                      'withers',\n",
      "                      'back1',\n",
      "                      'back2',\n",
      "                      'back3',\n",
      "                      'hoofFL',\n",
      "                      'hoofFR',\n",
      "                      'hoofHL',\n",
      "                      'hoofHR'],\n",
      " 'batch_size': 1,\n",
      " 'bottomheight': 400,\n",
      " 'crop': True,\n",
      " 'crop_pad': 0,\n",
      " 'cropratio': 0.4,\n",
      " 'dataset': 'training-datasets/iteration-0/UnaugmentedDataSet_Cow_labelingJan2/Cow_labeling_FKIE90shuffle1.mat',\n",
      " 'dataset_type': 'default',\n",
      " 'display_iters': 500,\n",
      " 'fg_fraction': 0.25,\n",
      " 'global_scale': 0.8,\n",
      " 'init_weights': '/home/wei-chan/anaconda3/lib/python3.6/site-packages/deeplabcut/pose_estimation_tensorflow/models/pretrained/resnet_v1_50.ckpt',\n",
      " 'intermediate_supervision': False,\n",
      " 'intermediate_supervision_layer': 12,\n",
      " 'leftwidth': 400,\n",
      " 'location_refinement': True,\n",
      " 'locref_huber_loss': True,\n",
      " 'locref_loss_weight': 0.05,\n",
      " 'locref_stdev': 7.2801,\n",
      " 'log_dir': 'log',\n",
      " 'max_input_size': 1000,\n",
      " 'mean_pixel': [123.68, 116.779, 103.939],\n",
      " 'metadataset': 'training-datasets/iteration-0/UnaugmentedDataSet_Cow_labelingJan2/Documentation_data-Cow_labeling_90shuffle1.pickle',\n",
      " 'minsize': 100,\n",
      " 'mirror': False,\n",
      " 'multi_step': [[0.005, 10000],\n",
      "                [0.02, 430000],\n",
      "                [0.002, 730000],\n",
      "                [0.001, 1030000]],\n",
      " 'net_type': 'resnet_50',\n",
      " 'num_joints': 10,\n",
      " 'optimizer': 'sgd',\n",
      " 'pos_dist_thresh': 17,\n",
      " 'project_path': '/home/wei-chan/Documents/Thesis/src/annotation/Cow_labeling-FKIE-2019-01-02',\n",
      " 'regularize': False,\n",
      " 'rightwidth': 400,\n",
      " 'save_iters': 1000,\n",
      " 'scale_jitter_lo': 0.5,\n",
      " 'scale_jitter_up': 1.25,\n",
      " 'scoremap_dir': 'test',\n",
      " 'shuffle': True,\n",
      " 'snapshot_prefix': '/home/wei-chan/Documents/Thesis/src/annotation/Cow_labeling-FKIE-2019-01-02/dlc-models/iteration-0/Cow_labelingJan2-trainset90shuffle1/test/snapshot',\n",
      " 'stride': 8.0,\n",
      " 'topheight': 400,\n",
      " 'use_gt_segm': False,\n",
      " 'video': False,\n",
      " 'video_batch': False,\n",
      " 'weigh_negatives': False,\n",
      " 'weigh_only_present_joints': False,\n",
      " 'weigh_part_predictions': False,\n",
      " 'weight_decay': 0.0001}\n",
      "Config:\n",
      "{'all_joints': [[0], [1], [2], [3], [4], [5], [6], [7], [8], [9]],\n",
      " 'all_joints_names': ['head',\n",
      "                      'neck',\n",
      "                      'withers',\n",
      "                      'back1',\n",
      "                      'back2',\n",
      "                      'back3',\n",
      "                      'hoofFL',\n",
      "                      'hoofFR',\n",
      "                      'hoofHL',\n",
      "                      'hoofHR'],\n",
      " 'batch_size': 1,\n",
      " 'bottomheight': 400,\n",
      " 'crop': True,\n",
      " 'crop_pad': 0,\n",
      " 'cropratio': 0.4,\n",
      " 'dataset': 'training-datasets/iteration-0/UnaugmentedDataSet_Cow_labelingJan2/Cow_labeling_FKIE90shuffle1.mat',\n",
      " 'dataset_type': 'default',\n",
      " 'display_iters': 500,\n",
      " 'fg_fraction': 0.25,\n",
      " 'global_scale': 0.8,\n",
      " 'init_weights': '/home/wei-chan/anaconda3/lib/python3.6/site-packages/deeplabcut/pose_estimation_tensorflow/models/pretrained/resnet_v1_50.ckpt',\n",
      " 'intermediate_supervision': False,\n",
      " 'intermediate_supervision_layer': 12,\n",
      " 'leftwidth': 400,\n",
      " 'location_refinement': True,\n",
      " 'locref_huber_loss': True,\n",
      " 'locref_loss_weight': 0.05,\n",
      " 'locref_stdev': 7.2801,\n",
      " 'log_dir': 'log',\n",
      " 'max_input_size': 1000,\n",
      " 'mean_pixel': [123.68, 116.779, 103.939],\n",
      " 'metadataset': 'training-datasets/iteration-0/UnaugmentedDataSet_Cow_labelingJan2/Documentation_data-Cow_labeling_90shuffle1.pickle',\n",
      " 'minsize': 100,\n",
      " 'mirror': False,\n",
      " 'multi_step': [[0.005, 10000],\n",
      "                [0.02, 430000],\n",
      "                [0.002, 730000],\n",
      "                [0.001, 1030000]],\n",
      " 'net_type': 'resnet_50',\n",
      " 'num_joints': 10,\n",
      " 'optimizer': 'sgd',\n",
      " 'pos_dist_thresh': 17,\n",
      " 'project_path': '/home/wei-chan/Documents/Thesis/src/annotation/Cow_labeling-FKIE-2019-01-02',\n",
      " 'regularize': False,\n",
      " 'rightwidth': 400,\n",
      " 'save_iters': 1000,\n",
      " 'scale_jitter_lo': 0.5,\n",
      " 'scale_jitter_up': 1.25,\n",
      " 'scoremap_dir': 'test',\n",
      " 'shuffle': True,\n",
      " 'snapshot_prefix': '/home/wei-chan/Documents/Thesis/src/annotation/Cow_labeling-FKIE-2019-01-02/dlc-models/iteration-0/Cow_labelingJan2-trainset90shuffle1/test/snapshot',\n",
      " 'stride': 8.0,\n",
      " 'topheight': 400,\n",
      " 'use_gt_segm': False,\n",
      " 'video': False,\n",
      " 'video_batch': False,\n",
      " 'weigh_negatives': False,\n",
      " 'weigh_only_present_joints': False,\n",
      " 'weigh_part_predictions': False,\n",
      " 'weight_decay': 0.0001}\n"
     ]
    },
    {
     "name": "stdout",
     "output_type": "stream",
     "text": [
      "Running  DeepCut_resnet50_Cow_labelingJan2shuffle1_21000  with # of trainingiterations: 21000\n",
      "INFO:tensorflow:Restoring parameters from /home/wei-chan/Documents/Thesis/src/annotation/Cow_labeling-FKIE-2019-01-02/dlc-models/iteration-0/Cow_labelingJan2-trainset90shuffle1/train/snapshot-21000\n"
     ]
    },
    {
     "name": "stderr",
     "output_type": "stream",
     "text": [
      "Restoring parameters from /home/wei-chan/Documents/Thesis/src/annotation/Cow_labeling-FKIE-2019-01-02/dlc-models/iteration-0/Cow_labelingJan2-trainset90shuffle1/train/snapshot-21000\n",
      "Restoring parameters from /home/wei-chan/Documents/Thesis/src/annotation/Cow_labeling-FKIE-2019-01-02/dlc-models/iteration-0/Cow_labelingJan2-trainset90shuffle1/train/snapshot-21000\n",
      "0it [00:00, ?it/s]"
     ]
    },
    {
     "name": "stdout",
     "output_type": "stream",
     "text": [
      "Analyzing data...\n"
     ]
    },
    {
     "name": "stderr",
     "output_type": "stream",
     "text": [
      "38it [00:03, 12.29it/s]"
     ]
    },
    {
     "name": "stdout",
     "output_type": "stream",
     "text": [
      "Done and results stored for snapshot:  snapshot-21000\n",
      "Results for 21000  training iterations: 90 1 train error: 2.69 pixels. Test error: 10.54  pixels.\n",
      "With pcutoff of 0.1  train error: 2.69 pixels. Test error: 10.54 pixels\n",
      "Thereby, the errors are given by the average distances between the labels by DLC and the scorer.\n",
      "The network is evaluated and the results are stored in the subdirectory 'evaluation_results'.\n",
      "If it generalizes well, choose the best model for prediction and update the config file with the appropriate index for the 'snapshotindex'.\n",
      "Use the function 'analyze_video' to make predictions on new videos.\n",
      "Otherwise consider retraining the network (see DeepLabCut workflow Fig 2)\n"
     ]
    },
    {
     "name": "stderr",
     "output_type": "stream",
     "text": [
      "\n"
     ]
    }
   ],
   "source": [
    "deeplabcut.evaluate_network(path_config_file)"
   ]
  },
  {
   "cell_type": "markdown",
   "metadata": {
    "colab_type": "text",
    "id": "OVFLSKKfoEJk"
   },
   "source": [
    "## Start Analyzing videos\n",
    "This function analyzes the new video. The user can choose the best model from the evaluation results and specify the correct snapshot index for the variable **snapshotindex** in the **config.yaml** file. Otherwise, by default the most recent snapshot is used to analyse the video.\n",
    "\n",
    "The results are stored in hd5 file in the same directory where the video resides. "
   ]
  },
  {
   "cell_type": "code",
   "execution_count": 12,
   "metadata": {
    "colab": {},
    "colab_type": "code",
    "id": "Y_LZiS_0oEJl"
   },
   "outputs": [
    {
     "name": "stderr",
     "output_type": "stream",
     "text": [
      "Config:\n",
      "{'all_joints': [[0], [1], [2], [3], [4], [5], [6], [7], [8], [9]],\n",
      " 'all_joints_names': ['head',\n",
      "                      'neck',\n",
      "                      'withers',\n",
      "                      'back1',\n",
      "                      'back2',\n",
      "                      'back3',\n",
      "                      'hoofFL',\n",
      "                      'hoofFR',\n",
      "                      'hoofHL',\n",
      "                      'hoofHR'],\n",
      " 'batch_size': 4,\n",
      " 'bottomheight': 400,\n",
      " 'crop': True,\n",
      " 'crop_pad': 0,\n",
      " 'cropratio': 0.4,\n",
      " 'dataset': 'training-datasets/iteration-0/UnaugmentedDataSet_Cow_labelingJan2/Cow_labeling_FKIE90shuffle1.mat',\n",
      " 'dataset_type': 'default',\n",
      " 'display_iters': 500,\n",
      " 'fg_fraction': 0.25,\n",
      " 'global_scale': 0.8,\n",
      " 'init_weights': '/home/wei-chan/anaconda3/lib/python3.6/site-packages/deeplabcut/pose_estimation_tensorflow/models/pretrained/resnet_v1_50.ckpt',\n",
      " 'intermediate_supervision': False,\n",
      " 'intermediate_supervision_layer': 12,\n",
      " 'leftwidth': 400,\n",
      " 'location_refinement': True,\n",
      " 'locref_huber_loss': True,\n",
      " 'locref_loss_weight': 0.05,\n",
      " 'locref_stdev': 7.2801,\n",
      " 'log_dir': 'log',\n",
      " 'max_input_size': 1000,\n",
      " 'mean_pixel': [123.68, 116.779, 103.939],\n",
      " 'metadataset': 'training-datasets/iteration-0/UnaugmentedDataSet_Cow_labelingJan2/Documentation_data-Cow_labeling_90shuffle1.pickle',\n",
      " 'minsize': 100,\n",
      " 'mirror': False,\n",
      " 'multi_step': [[0.005, 10000],\n",
      "                [0.02, 430000],\n",
      "                [0.002, 730000],\n",
      "                [0.001, 1030000]],\n",
      " 'net_type': 'resnet_50',\n",
      " 'num_joints': 10,\n",
      " 'optimizer': 'sgd',\n",
      " 'pos_dist_thresh': 17,\n",
      " 'project_path': '/home/wei-chan/Documents/Thesis/src/annotation/Cow_labeling-FKIE-2019-01-02',\n",
      " 'regularize': False,\n",
      " 'rightwidth': 400,\n",
      " 'save_iters': 1000,\n",
      " 'scale_jitter_lo': 0.5,\n",
      " 'scale_jitter_up': 1.25,\n",
      " 'scoremap_dir': 'test',\n",
      " 'shuffle': True,\n",
      " 'snapshot_prefix': '/home/wei-chan/Documents/Thesis/src/annotation/Cow_labeling-FKIE-2019-01-02/dlc-models/iteration-0/Cow_labelingJan2-trainset90shuffle1/test/snapshot',\n",
      " 'stride': 8.0,\n",
      " 'topheight': 400,\n",
      " 'use_gt_segm': False,\n",
      " 'video': False,\n",
      " 'video_batch': False,\n",
      " 'weigh_negatives': False,\n",
      " 'weigh_only_present_joints': False,\n",
      " 'weigh_part_predictions': False,\n",
      " 'weight_decay': 0.0001}\n",
      "Config:\n",
      "{'all_joints': [[0], [1], [2], [3], [4], [5], [6], [7], [8], [9]],\n",
      " 'all_joints_names': ['head',\n",
      "                      'neck',\n",
      "                      'withers',\n",
      "                      'back1',\n",
      "                      'back2',\n",
      "                      'back3',\n",
      "                      'hoofFL',\n",
      "                      'hoofFR',\n",
      "                      'hoofHL',\n",
      "                      'hoofHR'],\n",
      " 'batch_size': 4,\n",
      " 'bottomheight': 400,\n",
      " 'crop': True,\n",
      " 'crop_pad': 0,\n",
      " 'cropratio': 0.4,\n",
      " 'dataset': 'training-datasets/iteration-0/UnaugmentedDataSet_Cow_labelingJan2/Cow_labeling_FKIE90shuffle1.mat',\n",
      " 'dataset_type': 'default',\n",
      " 'display_iters': 500,\n",
      " 'fg_fraction': 0.25,\n",
      " 'global_scale': 0.8,\n",
      " 'init_weights': '/home/wei-chan/anaconda3/lib/python3.6/site-packages/deeplabcut/pose_estimation_tensorflow/models/pretrained/resnet_v1_50.ckpt',\n",
      " 'intermediate_supervision': False,\n",
      " 'intermediate_supervision_layer': 12,\n",
      " 'leftwidth': 400,\n",
      " 'location_refinement': True,\n",
      " 'locref_huber_loss': True,\n",
      " 'locref_loss_weight': 0.05,\n",
      " 'locref_stdev': 7.2801,\n",
      " 'log_dir': 'log',\n",
      " 'max_input_size': 1000,\n",
      " 'mean_pixel': [123.68, 116.779, 103.939],\n",
      " 'metadataset': 'training-datasets/iteration-0/UnaugmentedDataSet_Cow_labelingJan2/Documentation_data-Cow_labeling_90shuffle1.pickle',\n",
      " 'minsize': 100,\n",
      " 'mirror': False,\n",
      " 'multi_step': [[0.005, 10000],\n",
      "                [0.02, 430000],\n",
      "                [0.002, 730000],\n",
      "                [0.001, 1030000]],\n",
      " 'net_type': 'resnet_50',\n",
      " 'num_joints': 10,\n",
      " 'optimizer': 'sgd',\n",
      " 'pos_dist_thresh': 17,\n",
      " 'project_path': '/home/wei-chan/Documents/Thesis/src/annotation/Cow_labeling-FKIE-2019-01-02',\n",
      " 'regularize': False,\n",
      " 'rightwidth': 400,\n",
      " 'save_iters': 1000,\n",
      " 'scale_jitter_lo': 0.5,\n",
      " 'scale_jitter_up': 1.25,\n",
      " 'scoremap_dir': 'test',\n",
      " 'shuffle': True,\n",
      " 'snapshot_prefix': '/home/wei-chan/Documents/Thesis/src/annotation/Cow_labeling-FKIE-2019-01-02/dlc-models/iteration-0/Cow_labelingJan2-trainset90shuffle1/test/snapshot',\n",
      " 'stride': 8.0,\n",
      " 'topheight': 400,\n",
      " 'use_gt_segm': False,\n",
      " 'video': False,\n",
      " 'video_batch': False,\n",
      " 'weigh_negatives': False,\n",
      " 'weigh_only_present_joints': False,\n",
      " 'weigh_part_predictions': False,\n",
      " 'weight_decay': 0.0001}\n"
     ]
    },
    {
     "name": "stdout",
     "output_type": "stream",
     "text": [
      "Using snapshot-21000 for model /home/wei-chan/Documents/Thesis/src/annotation/Cow_labeling-FKIE-2019-01-02/dlc-models/iteration-0/Cow_labelingJan2-trainset90shuffle1\n",
      "INFO:tensorflow:Restoring parameters from /home/wei-chan/Documents/Thesis/src/annotation/Cow_labeling-FKIE-2019-01-02/dlc-models/iteration-0/Cow_labelingJan2-trainset90shuffle1/train/snapshot-21000\n"
     ]
    },
    {
     "name": "stderr",
     "output_type": "stream",
     "text": [
      "Restoring parameters from /home/wei-chan/Documents/Thesis/src/annotation/Cow_labeling-FKIE-2019-01-02/dlc-models/iteration-0/Cow_labelingJan2-trainset90shuffle1/train/snapshot-21000\n",
      "Restoring parameters from /home/wei-chan/Documents/Thesis/src/annotation/Cow_labeling-FKIE-2019-01-02/dlc-models/iteration-0/Cow_labelingJan2-trainset90shuffle1/train/snapshot-21000\n"
     ]
    },
    {
     "name": "stdout",
     "output_type": "stream",
     "text": [
      "/home/wei-chan/Documents/Thesis/src/annotation/data/Tag4/cow1.mp4\n",
      "Starting %  /home/wei-chan/Documents/Thesis/src/annotation/data/Tag4/cow1.mp4\n",
      "Video already analyzed! /home/wei-chan/Documents/Thesis/src/annotation/data/Tag4/cow1DeepCut_resnet50_Cow_labelingJan2shuffle1_21000.h5\n",
      "/home/wei-chan/Documents/Thesis/src/annotation/data/Tag4/cow24.mp4\n",
      "Starting %  /home/wei-chan/Documents/Thesis/src/annotation/data/Tag4/cow24.mp4\n",
      "Video already analyzed! /home/wei-chan/Documents/Thesis/src/annotation/data/Tag4/cow24DeepCut_resnet50_Cow_labelingJan2shuffle1_21000.h5\n",
      "The videos are analyzed. Now your research can truly start! \n",
      " You can create labeled videos with 'create_labeled_video'.\n",
      "If the tracking is not satisfactory for some videos, consider expanding the training set. You can use the function 'extract_outlier_frames' to extract any outlier frames!\n"
     ]
    }
   ],
   "source": [
    "videofile_path = ['/home/wei-chan/Documents/Thesis/src/annotation/data/Tag4/cow1.mp4','/home/wei-chan/Documents/Thesis/src/annotation/data/Tag4/cow24.mp4'] #Enter the list of videos to analyze.\n",
    "deeplabcut.analyze_videos(path_config_file,videofile_path)"
   ]
  },
  {
   "cell_type": "markdown",
   "metadata": {
    "colab_type": "text",
    "id": "iGu_PdTWoEJr"
   },
   "source": [
    "## Extract outlier frames [optional step]\n",
    "This is an optional step and is used only when the evaluation results are poor i.e. the labels are incorrectly predicted. In such a case, the user can use the following function to extract frames where the labels are incorrectly predicted. Make sure to provide the correct value of the \"iterations\" as it will be used to create the unique directory where the extracted frames will be saved."
   ]
  },
  {
   "cell_type": "code",
   "execution_count": 7,
   "metadata": {},
   "outputs": [],
   "source": [
    "deeplabcut.extract_outlier_frames?"
   ]
  },
  {
   "cell_type": "code",
   "execution_count": 8,
   "metadata": {
    "colab": {},
    "colab_type": "code",
    "id": "gkbaBOJVoEJs"
   },
   "outputs": [
    {
     "name": "stderr",
     "output_type": "stream",
     "text": [
      "\r",
      "  0%|          | 0/4 [00:00<?, ?it/s]"
     ]
    },
    {
     "name": "stdout",
     "output_type": "stream",
     "text": [
      "network parameters: DeepCut_resnet50_Cow_labelingJan2shuffle1_21000\n",
      "Fitting state-space models with parameters 3 1\n"
     ]
    },
    {
     "name": "stderr",
     "output_type": "stream",
     "text": [
      "100%|██████████| 4/4 [00:01<00:00,  1.58it/s]\n"
     ]
    },
    {
     "name": "stdout",
     "output_type": "stream",
     "text": [
      "Method  fitting  found  201  putative outlier frames.\n",
      "Do you want to proceed with extracting  20  of those?\n",
      "If this list is very large, perhaps consider changing the paramters (start, stop, epsilon, ARdegree, MAdegree, alpha, comparisonbodyparts) or use a different method.\n",
      "yes/noyes\n"
     ]
    },
    {
     "name": "stderr",
     "output_type": "stream",
     "text": [
      "37it [00:00, 369.97it/s]"
     ]
    },
    {
     "name": "stdout",
     "output_type": "stream",
     "text": [
      "Frames from video cow1  already extracted (more will be added)!\n",
      "Loading video...\n",
      "Duration of video [s]:  10.05 , recorded @  20.0 fps!\n",
      "Overall # of frames:  201 with (cropped) frame dimensions:  [680, 420]\n",
      "Kmeans-quantization based extracting of frames from 0.0  seconds to 10.05  seconds.\n",
      "Extracting... 200  (this might take a while).\n"
     ]
    },
    {
     "name": "stderr",
     "output_type": "stream",
     "text": [
      "200it [00:00, 387.69it/s]\n"
     ]
    },
    {
     "name": "stdout",
     "output_type": "stream",
     "text": [
      "Kmeans clustering...(this might take a while).\n",
      "Let's select frames indices: [173, 129, 61, 80, 110, 199, 17, 146, 30, 102, 165, 47, 77, 56, 6, 116, 157, 26, 183, 137]\n",
      "AUTOMATIC ADDING OF VIDEO TO CONFIG FILE FAILED! You need to do this manually for including it in the config.yaml file!\n",
      "Videopath: /home/wei-chan/Documents/Thesis/src/annotation/data/Tag4/cow1.mp4 Coordinates for cropping: None\n",
      "The outlier frames are extracted. They are stored in the subdirectory labeled-data\\cow1.\n",
      "Once you extracted frames for all videos, use 'refine_labels' to manually correct the labels.\n"
     ]
    }
   ],
   "source": [
    "deeplabcut.extract_outlier_frames(path_config_file,['/home/wei-chan/Documents/Thesis/src/annotation/data/Tag4/cow1.mp4'], comparisonbodyparts = ['hoofFL','hoofFLR','hoofHL', 'hoofHR'], epsilon = 5, extractionalgorithm = 'kmeans')"
   ]
  },
  {
   "cell_type": "markdown",
   "metadata": {
    "colab_type": "text",
    "id": "8ib0uvhaoEJx"
   },
   "source": [
    "## Refine Labels [optional step]\n",
    "Following the extraction of outlier frames, the user can use the following function to move the predicted labels to the correct location. Thus augmenting the training dataset."
   ]
  },
  {
   "cell_type": "code",
   "execution_count": 10,
   "metadata": {
    "colab": {},
    "colab_type": "code",
    "id": "n_FpEXtyoEJy"
   },
   "outputs": [
    {
     "name": "stderr",
     "output_type": "stream",
     "text": [
      "ERROR:root:Cannot activate multiple GUI eventloops\n"
     ]
    },
    {
     "name": "stdout",
     "output_type": "stream",
     "text": [
      "/home/wei-chan/Documents/Thesis/src/annotation/Cow_labeling-FKIE-2019-01-02/labeled-data/cow1\n",
      "Checking labels if they are outside the image\n",
      "Found head outside the image labeled-data/cow1/img199.png.Setting it to NaN\n",
      "A training dataset file is already found for this video. The refined machine labels are merged to this data!\n",
      "Closing... The refined labels are stored in a subdirectory under labeled-data. Use the function 'merge_datasets' to augment the training dataset, and then re-train a network using create_training_dataset followed by train_network!\n"
     ]
    }
   ],
   "source": [
    "%gui wx\n",
    "deeplabcut.refine_labels(path_config_file)"
   ]
  },
  {
   "cell_type": "code",
   "execution_count": 12,
   "metadata": {
    "colab": {},
    "colab_type": "code",
    "id": "CHzstWr8oEJ2"
   },
   "outputs": [
    {
     "name": "stdout",
     "output_type": "stream",
     "text": [
      "Merged data sets and updated refinement iteration to 1.\n",
      "Now you can create a new training set for the expanded annotated images (use create_training_dataset).\n"
     ]
    }
   ],
   "source": [
    "#Once all folders are relabeled, check them and advance. See how to check labels, above!\n",
    "deeplabcut.merge_datasets(path_config_file)"
   ]
  },
  {
   "cell_type": "markdown",
   "metadata": {
    "colab_type": "text",
    "id": "QCHj7qyboEJ6"
   },
   "source": [
    "## Create a new iteration of training dataset [optional step]\n",
    "Following the refine labels, append these frames to the original dataset to create a new iteration of training dataset."
   ]
  },
  {
   "cell_type": "code",
   "execution_count": 13,
   "metadata": {
    "colab": {},
    "colab_type": "code",
    "id": "ytQoxIldoEJ7"
   },
   "outputs": [
    {
     "name": "stdout",
     "output_type": "stream",
     "text": [
      "The training dataset is successfully created. Use the function 'train_network' to start training. Happy training!\n"
     ]
    }
   ],
   "source": [
    "deeplabcut.create_training_dataset(path_config_file)"
   ]
  },
  {
   "cell_type": "code",
   "execution_count": 14,
   "metadata": {},
   "outputs": [
    {
     "name": "stdout",
     "output_type": "stream",
     "text": [
      "Creating images with labels by FKIE.\n",
      "/home/wei-chan/Documents/Thesis/src/annotation/Cow_labeling-FKIE-2019-01-02/labeled-data/cow1_labeled  already exists!\n",
      "They are stored in the following folder: /home/wei-chan/Documents/Thesis/src/annotation/Cow_labeling-FKIE-2019-01-02/labeled-data/cow1_labeled.\n",
      "/home/wei-chan/Documents/Thesis/src/annotation/Cow_labeling-FKIE-2019-01-02/labeled-data/cow24_labeled  already exists!\n",
      "They are stored in the following folder: /home/wei-chan/Documents/Thesis/src/annotation/Cow_labeling-FKIE-2019-01-02/labeled-data/cow24_labeled.\n",
      "If all the labels are ok, then use the function 'create_training_dataset' to create the training dataset!\n"
     ]
    }
   ],
   "source": [
    "#Perhaps plot the labels to see how how all the frames are annoted (including the refined ones)\n",
    "deeplabcut.check_labels(path_config_file)"
   ]
  },
  {
   "cell_type": "markdown",
   "metadata": {},
   "source": [
    "Now one can train the network again... (with the expanded data set)"
   ]
  },
  {
   "cell_type": "code",
   "execution_count": null,
   "metadata": {},
   "outputs": [
    {
     "name": "stdout",
     "output_type": "stream",
     "text": [
      "INFO:tensorflow:Restoring parameters from /home/wei-chan/Documents/Thesis/src/annotation/Cow_labeling-FKIE-2019-01-02/dlc-models/iteration-0/Cow_labelingJan2-trainset90shuffle1/train/snapshot-20000\n"
     ]
    },
    {
     "name": "stderr",
     "output_type": "stream",
     "text": [
      "INFO:tensorflow:Restoring parameters from /home/wei-chan/Documents/Thesis/src/annotation/Cow_labeling-FKIE-2019-01-02/dlc-models/iteration-0/Cow_labelingJan2-trainset90shuffle1/train/snapshot-20000\n",
      "Restoring parameters from /home/wei-chan/Documents/Thesis/src/annotation/Cow_labeling-FKIE-2019-01-02/dlc-models/iteration-0/Cow_labelingJan2-trainset90shuffle1/train/snapshot-20000\n",
      "Restoring parameters from /home/wei-chan/Documents/Thesis/src/annotation/Cow_labeling-FKIE-2019-01-02/dlc-models/iteration-0/Cow_labelingJan2-trainset90shuffle1/train/snapshot-20000\n",
      "Restoring parameters from /home/wei-chan/Documents/Thesis/src/annotation/Cow_labeling-FKIE-2019-01-02/dlc-models/iteration-0/Cow_labelingJan2-trainset90shuffle1/train/snapshot-20000\n",
      "Restoring parameters from /home/wei-chan/Documents/Thesis/src/annotation/Cow_labeling-FKIE-2019-01-02/dlc-models/iteration-0/Cow_labelingJan2-trainset90shuffle1/train/snapshot-20000\n",
      "Restoring parameters from /home/wei-chan/Documents/Thesis/src/annotation/Cow_labeling-FKIE-2019-01-02/dlc-models/iteration-0/Cow_labelingJan2-trainset90shuffle1/train/snapshot-20000\n"
     ]
    },
    {
     "name": "stdout",
     "output_type": "stream",
     "text": [
      "Training parameter:\n",
      "{'stride': 8.0, 'weigh_part_predictions': False, 'weigh_negatives': False, 'fg_fraction': 0.25, 'weigh_only_present_joints': False, 'mean_pixel': [123.68, 116.779, 103.939], 'shuffle': True, 'snapshot_prefix': '/home/wei-chan/Documents/Thesis/src/annotation/Cow_labeling-FKIE-2019-01-02/dlc-models/iteration-1/Cow_labelingJan2-trainset90shuffle1/train/snapshot', 'log_dir': 'log', 'global_scale': 0.8, 'location_refinement': True, 'locref_stdev': 7.2801, 'locref_loss_weight': 0.05, 'locref_huber_loss': True, 'optimizer': 'sgd', 'intermediate_supervision': False, 'intermediate_supervision_layer': 12, 'regularize': False, 'weight_decay': 0.0001, 'mirror': False, 'crop_pad': 0, 'scoremap_dir': 'test', 'dataset_type': 'default', 'use_gt_segm': False, 'batch_size': 1, 'video': False, 'video_batch': False, 'crop': True, 'cropratio': 0.4, 'minsize': 100, 'leftwidth': 400, 'rightwidth': 400, 'topheight': 400, 'bottomheight': 400, 'all_joints': [[0], [1], [2], [3], [4], [5], [6], [7], [8], [9]], 'all_joints_names': ['head', 'neck', 'withers', 'back1', 'back2', 'back3', 'hoofFL', 'hoofFR', 'hoofHL', 'hoofHR'], 'dataset': 'training-datasets/iteration-1/UnaugmentedDataSet_Cow_labelingJan2/Cow_labeling_FKIE90shuffle1.mat', 'display_iters': 500, 'init_weights': '/home/wei-chan/Documents/Thesis/src/annotation/Cow_labeling-FKIE-2019-01-02/dlc-models/iteration-0/Cow_labelingJan2-trainset90shuffle1/train/snapshot-20000', 'max_input_size': 1000, 'metadataset': 'training-datasets/iteration-1/UnaugmentedDataSet_Cow_labelingJan2/Documentation_data-Cow_labeling_90shuffle1.pickle', 'multi_step': [[0.005, 10000], [0.02, 430000], [0.002, 730000], [0.001, 1030000]], 'net_type': 'resnet_50', 'num_joints': 10, 'pos_dist_thresh': 17, 'project_path': '/home/wei-chan/Documents/Thesis/src/annotation/Cow_labeling-FKIE-2019-01-02', 'save_iters': 1000, 'scale_jitter_lo': 0.5, 'scale_jitter_up': 1.25}\n",
      "Starting training....\n"
     ]
    }
   ],
   "source": [
    "deeplabcut.train_network(path_config_file, gputouse=0)"
   ]
  },
  {
   "cell_type": "markdown",
   "metadata": {
    "colab_type": "text",
    "id": "pCrUvQIvoEKD"
   },
   "source": [
    "## Create labeled video\n",
    "This funtion is for visualiztion purpose and can be used to create a video in .mp4 format with labels predicted by the network. This video is saved in the same directory where the original video resides. "
   ]
  },
  {
   "cell_type": "code",
   "execution_count": 13,
   "metadata": {
    "colab": {},
    "colab_type": "code",
    "id": "6aDF7Q7KoEKE"
   },
   "outputs": [
    {
     "name": "stderr",
     "output_type": "stream",
     "text": [
      "\n",
      "  0%|          | 0/201 [00:00<?, ?it/s]\u001b[A\n",
      "  1%|▏         | 3/201 [00:00<00:08, 24.45it/s]\u001b[A"
     ]
    },
    {
     "name": "stdout",
     "output_type": "stream",
     "text": [
      "Starting %  /home/wei-chan/Documents/Thesis/src/annotation/data/Tag4 ['/home/wei-chan/Documents/Thesis/src/annotation/data/Tag4/cow1.mp4', '/home/wei-chan/Documents/Thesis/src/annotation/data/Tag4/cow24.mp4']\n",
      "Loading  /home/wei-chan/Documents/Thesis/src/annotation/data/Tag4/cow1.mp4 and data.\n",
      "False 0 680 0 420\n",
      "201\n",
      "Duration of video [s]:  10.05 , recorded with  20.0 fps!\n",
      "Overall # of frames:  201 with cropped frame dimensions:  680 420\n",
      "Generating frames and creating video.\n"
     ]
    },
    {
     "name": "stderr",
     "output_type": "stream",
     "text": [
      "\n",
      "  3%|▎         | 6/201 [00:00<00:08, 24.26it/s]\u001b[A\n",
      "  4%|▍         | 9/201 [00:00<00:07, 25.51it/s]\u001b[A\n",
      "  6%|▋         | 13/201 [00:00<00:07, 26.74it/s]\u001b[A\n",
      "  8%|▊         | 17/201 [00:00<00:06, 27.98it/s]\u001b[A\n",
      " 10%|█         | 21/201 [00:00<00:06, 29.43it/s]\u001b[A\n",
      " 12%|█▏        | 25/201 [00:00<00:05, 30.02it/s]\u001b[A\n",
      " 14%|█▍        | 29/201 [00:00<00:05, 30.87it/s]\u001b[A\n",
      " 16%|█▌        | 32/201 [00:01<00:05, 29.88it/s]\u001b[A\n",
      " 17%|█▋        | 35/201 [00:01<00:05, 29.45it/s]\u001b[A\n",
      " 19%|█▉        | 39/201 [00:01<00:05, 30.00it/s]\u001b[A\n",
      " 21%|██        | 42/201 [00:01<00:05, 29.13it/s]\u001b[A\n",
      " 23%|██▎       | 46/201 [00:01<00:05, 30.68it/s]\u001b[A\n",
      " 25%|██▍       | 50/201 [00:01<00:04, 31.95it/s]\u001b[A\n",
      " 27%|██▋       | 54/201 [00:01<00:04, 32.77it/s]\u001b[A\n",
      " 29%|██▉       | 58/201 [00:01<00:04, 32.89it/s]\u001b[A\n",
      " 31%|███       | 62/201 [00:02<00:04, 33.11it/s]\u001b[A\n",
      " 33%|███▎      | 66/201 [00:02<00:04, 33.40it/s]\u001b[A\n",
      " 35%|███▍      | 70/201 [00:02<00:03, 33.75it/s]\u001b[A\n",
      " 37%|███▋      | 74/201 [00:02<00:03, 34.48it/s]\u001b[A\n",
      " 39%|███▉      | 78/201 [00:02<00:03, 34.27it/s]\u001b[A\n",
      " 41%|████      | 82/201 [00:02<00:03, 34.90it/s]\u001b[A\n",
      " 43%|████▎     | 86/201 [00:02<00:03, 35.44it/s]\u001b[A\n",
      " 45%|████▍     | 90/201 [00:02<00:03, 35.73it/s]\u001b[A\n",
      " 47%|████▋     | 94/201 [00:02<00:03, 35.16it/s]\u001b[A\n",
      " 49%|████▉     | 98/201 [00:03<00:02, 34.74it/s]\u001b[A\n",
      " 51%|█████     | 102/201 [00:03<00:02, 33.96it/s]\u001b[A\n",
      " 53%|█████▎    | 106/201 [00:03<00:02, 33.81it/s]\u001b[A\n",
      " 55%|█████▍    | 110/201 [00:03<00:02, 34.01it/s]\u001b[A\n",
      " 57%|█████▋    | 114/201 [00:03<00:02, 34.01it/s]\u001b[A\n",
      " 59%|█████▊    | 118/201 [00:03<00:02, 33.95it/s]\u001b[A\n",
      " 61%|██████    | 122/201 [00:03<00:02, 33.50it/s]\u001b[A\n",
      " 63%|██████▎   | 126/201 [00:03<00:02, 33.27it/s]\u001b[A\n",
      " 65%|██████▍   | 130/201 [00:03<00:02, 33.31it/s]\u001b[A\n",
      " 67%|██████▋   | 134/201 [00:04<00:02, 33.25it/s]\u001b[A\n",
      " 69%|██████▊   | 138/201 [00:04<00:01, 33.29it/s]\u001b[A\n",
      " 71%|███████   | 142/201 [00:04<00:01, 32.52it/s]\u001b[A\n",
      " 73%|███████▎  | 146/201 [00:04<00:01, 32.83it/s]\u001b[A\n",
      " 75%|███████▍  | 150/201 [00:04<00:01, 32.40it/s]\u001b[A\n",
      " 77%|███████▋  | 154/201 [00:04<00:01, 32.04it/s]\u001b[A\n",
      " 79%|███████▊  | 158/201 [00:04<00:01, 31.51it/s]\u001b[A\n",
      " 81%|████████  | 162/201 [00:05<00:01, 30.25it/s]\u001b[A\n",
      " 83%|████████▎ | 166/201 [00:05<00:01, 29.73it/s]\u001b[A\n",
      " 84%|████████▍ | 169/201 [00:05<00:01, 29.21it/s]\u001b[A\n",
      " 86%|████████▌ | 173/201 [00:05<00:00, 29.78it/s]\u001b[A\n",
      " 88%|████████▊ | 176/201 [00:05<00:00, 29.77it/s]\u001b[A\n",
      " 90%|████████▉ | 180/201 [00:05<00:00, 29.95it/s]\u001b[A\n",
      " 92%|█████████▏| 184/201 [00:05<00:00, 29.85it/s]\u001b[A\n",
      " 94%|█████████▎| 188/201 [00:05<00:00, 30.27it/s]\u001b[A\n",
      " 96%|█████████▌| 192/201 [00:06<00:00, 30.78it/s]\u001b[A\n",
      " 98%|█████████▊| 196/201 [00:06<00:00, 30.97it/s]\u001b[A\n",
      "100%|█████████▉| 200/201 [00:06<00:00, 30.79it/s]\u001b[A\n",
      "100%|██████████| 201/201 [00:06<00:00, 31.85it/s]\u001b[A\n",
      "  0%|          | 0/157 [00:00<?, ?it/s]\u001b[A\n",
      "  2%|▏         | 3/157 [00:00<00:06, 24.94it/s]\u001b[A"
     ]
    },
    {
     "name": "stdout",
     "output_type": "stream",
     "text": [
      "Starting %  /home/wei-chan/Documents/Thesis/src/annotation/data/Tag4 ['/home/wei-chan/Documents/Thesis/src/annotation/data/Tag4/cow1.mp4', '/home/wei-chan/Documents/Thesis/src/annotation/data/Tag4/cow24.mp4']\n",
      "Loading  /home/wei-chan/Documents/Thesis/src/annotation/data/Tag4/cow24.mp4 and data.\n",
      "False 0 680 0 420\n",
      "157\n",
      "Duration of video [s]:  7.85 , recorded with  20.0 fps!\n",
      "Overall # of frames:  157 with cropped frame dimensions:  680 420\n",
      "Generating frames and creating video.\n"
     ]
    },
    {
     "name": "stderr",
     "output_type": "stream",
     "text": [
      "\n",
      "  4%|▍         | 6/157 [00:00<00:06, 24.84it/s]\u001b[A\n",
      "  6%|▌         | 9/157 [00:00<00:05, 25.72it/s]\u001b[A\n",
      "  8%|▊         | 12/157 [00:00<00:05, 26.60it/s]\u001b[A\n",
      " 10%|▉         | 15/157 [00:00<00:05, 26.94it/s]\u001b[A\n",
      " 11%|█▏        | 18/157 [00:00<00:05, 27.21it/s]\u001b[A\n",
      " 13%|█▎        | 21/157 [00:00<00:04, 27.91it/s]\u001b[A\n",
      " 16%|█▌        | 25/157 [00:00<00:04, 29.19it/s]\u001b[A\n",
      " 18%|█▊        | 29/157 [00:01<00:04, 29.84it/s]\u001b[A\n",
      " 21%|██        | 33/157 [00:01<00:04, 30.32it/s]\u001b[A\n",
      " 24%|██▎       | 37/157 [00:01<00:03, 30.50it/s]\u001b[A\n",
      " 26%|██▌       | 41/157 [00:01<00:03, 29.98it/s]\u001b[A\n",
      " 28%|██▊       | 44/157 [00:01<00:03, 29.78it/s]\u001b[A\n",
      " 30%|██▉       | 47/157 [00:01<00:03, 29.76it/s]\u001b[A\n",
      " 32%|███▏      | 51/157 [00:01<00:03, 30.18it/s]\u001b[A\n",
      " 35%|███▌      | 55/157 [00:01<00:03, 30.18it/s]\u001b[A\n",
      " 38%|███▊      | 59/157 [00:02<00:03, 30.39it/s]\u001b[A\n",
      " 40%|████      | 63/157 [00:02<00:03, 30.55it/s]\u001b[A\n",
      " 43%|████▎     | 67/157 [00:02<00:02, 30.15it/s]\u001b[A\n",
      " 45%|████▌     | 71/157 [00:02<00:02, 30.03it/s]\u001b[A\n",
      " 48%|████▊     | 75/157 [00:02<00:02, 30.67it/s]\u001b[A\n",
      " 50%|█████     | 79/157 [00:02<00:02, 30.84it/s]\u001b[A\n",
      " 53%|█████▎    | 83/157 [00:02<00:02, 30.78it/s]\u001b[A\n",
      " 55%|█████▌    | 87/157 [00:02<00:02, 30.57it/s]\u001b[A\n",
      " 58%|█████▊    | 91/157 [00:03<00:02, 29.28it/s]\u001b[A\n",
      " 60%|█████▉    | 94/157 [00:03<00:02, 28.45it/s]\u001b[A\n",
      " 62%|██████▏   | 97/157 [00:03<00:02, 28.24it/s]\u001b[A\n",
      " 64%|██████▎   | 100/157 [00:03<00:02, 28.30it/s]\u001b[A\n",
      " 66%|██████▌   | 103/157 [00:03<00:01, 28.48it/s]\u001b[A\n",
      " 68%|██████▊   | 106/157 [00:03<00:01, 28.27it/s]\u001b[A\n",
      " 69%|██████▉   | 109/157 [00:03<00:01, 28.37it/s]\u001b[A\n",
      " 71%|███████▏  | 112/157 [00:03<00:01, 28.54it/s]\u001b[A\n",
      " 73%|███████▎  | 115/157 [00:03<00:01, 28.70it/s]\u001b[A\n",
      " 75%|███████▌  | 118/157 [00:04<00:01, 28.95it/s]\u001b[A\n",
      " 77%|███████▋  | 121/157 [00:04<00:01, 29.16it/s]\u001b[A\n",
      " 79%|███████▉  | 124/157 [00:04<00:01, 29.33it/s]\u001b[A\n",
      " 81%|████████  | 127/157 [00:04<00:01, 29.40it/s]\u001b[A\n",
      " 83%|████████▎ | 130/157 [00:04<00:00, 29.47it/s]\u001b[A\n",
      " 85%|████████▍ | 133/157 [00:04<00:00, 29.38it/s]\u001b[A\n",
      " 87%|████████▋ | 136/157 [00:04<00:00, 29.41it/s]\u001b[A\n",
      " 89%|████████▉ | 140/157 [00:04<00:00, 29.73it/s]\u001b[A\n",
      " 92%|█████████▏| 144/157 [00:04<00:00, 30.15it/s]\u001b[A\n",
      " 94%|█████████▍| 148/157 [00:05<00:00, 30.81it/s]\u001b[A\n",
      " 97%|█████████▋| 152/157 [00:05<00:00, 30.39it/s]\u001b[A\n",
      " 99%|█████████▉| 156/157 [00:05<00:00, 30.03it/s]\u001b[A\n",
      "100%|██████████| 157/157 [00:05<00:00, 29.47it/s]\u001b[A"
     ]
    }
   ],
   "source": [
    "deeplabcut.create_labeled_video(path_config_file,videofile_path)"
   ]
  },
  {
   "cell_type": "markdown",
   "metadata": {
    "colab_type": "text",
    "id": "8GTiuJESoEKH"
   },
   "source": [
    "## Plot the trajectories of the analyzed videos\n",
    "This function plots the trajectories of all the body parts across the entire video. Each body part is identified by a unique color."
   ]
  },
  {
   "cell_type": "code",
   "execution_count": 0,
   "metadata": {
    "colab": {},
    "colab_type": "code",
    "id": "gX21zZbXoEKJ"
   },
   "outputs": [],
   "source": [
    "%matplotlib notebook #for making interactive plots.\n",
    "deeplabcut.plot_trajectories(path_config_file,videofile_path)"
   ]
  }
 ],
 "metadata": {
  "accelerator": "GPU",
  "colab": {
   "name": "Demo-yourowndata.ipynb",
   "provenance": [],
   "version": "0.3.2"
  },
  "kernelspec": {
   "display_name": "Python 3",
   "language": "python",
   "name": "python3"
  },
  "language_info": {
   "codemirror_mode": {
    "name": "ipython",
    "version": 3
   },
   "file_extension": ".py",
   "mimetype": "text/x-python",
   "name": "python",
   "nbconvert_exporter": "python",
   "pygments_lexer": "ipython3",
   "version": "3.6.6"
  },
  "varInspector": {
   "cols": {
    "lenName": 16,
    "lenType": 16,
    "lenVar": 40
   },
   "kernels_config": {
    "python": {
     "delete_cmd_postfix": "",
     "delete_cmd_prefix": "del ",
     "library": "var_list.py",
     "varRefreshCmd": "print(var_dic_list())"
    },
    "r": {
     "delete_cmd_postfix": ") ",
     "delete_cmd_prefix": "rm(",
     "library": "var_list.r",
     "varRefreshCmd": "cat(var_dic_list()) "
    }
   },
   "types_to_exclude": [
    "module",
    "function",
    "builtin_function_or_method",
    "instance",
    "_Feature"
   ],
   "window_display": false
  }
 },
 "nbformat": 4,
 "nbformat_minor": 1
}
