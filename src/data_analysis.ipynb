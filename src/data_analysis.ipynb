{
 "cells": [
  {
   "cell_type": "markdown",
   "metadata": {},
   "source": [
    "## Data Analysis"
   ]
  },
  {
   "cell_type": "code",
   "execution_count": 36,
   "metadata": {},
   "outputs": [],
   "source": [
    "import numpy as np\n",
    "from sklearn.metrics import confusion_matrix\n",
    "import pandas as pd\n",
    "import os\n",
    "import matplotlib.pyplot as plt\n",
    "%matplotlib inline"
   ]
  },
  {
   "cell_type": "code",
   "execution_count": 31,
   "metadata": {},
   "outputs": [],
   "source": []
  },
  {
   "cell_type": "code",
   "execution_count": 52,
   "metadata": {},
   "outputs": [],
   "source": [
    "path = '/home/mas-19/Documents/Thesis/src/input_st-gcn/lameness/'\n",
    "train_path = path + 'lameness_train/'\n",
    "test_path = path + 'lameness_test/'\n",
    "\n",
    "label_table = pd.read_csv('/home/mas-19/Documents/Thesis/src/annotation/data_labels.csv')\n"
   ]
  },
  {
   "cell_type": "code",
   "execution_count": 85,
   "metadata": {},
   "outputs": [],
   "source": [
    "# Util functions\n",
    "def tag_loc(tag):\n",
    "    return (tag + 1) if tag != 14 else 8\n",
    "\n",
    "def classify(score):\n",
    "    if score < 2:\n",
    "        label_index = 1\n",
    "    elif score >= 2 and score < 3:\n",
    "        label_index = 2\n",
    "    elif score >= 3 and score < 4:\n",
    "        label_index = 3\n",
    "    elif score >= 4:\n",
    "        label_index = 4\n",
    "   \n",
    "    return label_index\n",
    "\n",
    "def count_file_labels(datapath):\n",
    "    class_labels = np.zeros((1, 4))\n",
    "    for file in os.listdir(datapath):\n",
    "        filename = file.split('.')[0]\n",
    "        cow_id = filename.split('-')[0]\n",
    "        tag = filename.split('-')[1]\n",
    "        label = label_table[(label_table['cow_id'] == cow_id)].iloc[0, tag_loc(int(tag))]\n",
    "        class_label = classify(label) - 1\n",
    "        class_labels[0, class_label] += 1 \n",
    "        \n",
    "    return class_labels\n",
    "\n",
    "def count_labels(pklfile):\n",
    "    class_labels = np.zeros((1, 4))\n",
    "    labels = np.load(pklfile)[1]\n",
    "    for i in labels:\n",
    "        class_labels[0, i] += 1\n",
    "\n",
    "    return class_labels\n"
   ]
  },
  {
   "cell_type": "code",
   "execution_count": 83,
   "metadata": {},
   "outputs": [
    {
     "name": "stdout",
     "output_type": "stream",
     "text": [
      "[3, 1, 0, 2, 3, 3, 0, 0, 2, 1, 1, 0, 1, 0, 1, 3, 0, 1, 0, 3, 0, 1, 3, 1, 2, 0, 1, 0, 0, 2, 1, 1, 0, 0, 2, 0, 1, 0, 1, 2, 1, 1, 1, 2, 0, 1, 0, 1, 0, 0, 2, 1, 2, 3, 0, 1, 2, 3, 0, 0, 2, 1, 2, 3, 2, 1, 0, 3, 0, 0, 1, 2, 1, 0, 1, 0, 3, 0, 0, 3, 2, 1, 0, 2, 2, 2, 0, 3, 0, 0, 1, 0, 0, 0, 0, 2, 1, 0, 2, 1, 0, 1, 0, 1, 0, 0, 0, 0, 2, 0, 0, 0, 2, 0, 2, 0, 0, 1, 0, 2, 1, 0, 0, 0, 2, 0, 2, 1, 0, 0, 1, 1, 3, 0, 0, 1, 2, 0, 0, 0, 3, 1, 3, 2, 1, 0, 2, 3, 0, 1, 1]\n"
     ]
    },
    {
     "data": {
      "text/plain": [
       "array([[64., 41., 29., 17.]])"
      ]
     },
     "execution_count": 83,
     "metadata": {},
     "output_type": "execute_result"
    }
   ],
   "source": [
    "pklfile = '/media/mas-19/13E3-03F2/computer/Documents/tools/st-gcn/data/Lameness/lameness-skeleton/test_label.pkl' \n",
    "count_labels(pklfile)"
   ]
  },
  {
   "cell_type": "code",
   "execution_count": 96,
   "metadata": {},
   "outputs": [
    {
     "data": {
      "image/png": "[encoded data removed]",
      "text/plain": [
       "<Figure size 432x288 with 1 Axes>"
      ]
     },
     "metadata": {
      "needs_background": "light"
     },
     "output_type": "display_data"
    }
   ],
   "source": [
    "# Bar chart (source: http://benalexkeen.com/bar-charts-in-matplotlib/)\n",
    "train_pkl = '/media/mas-19/13E3-03F2/computer/Documents/tools/st-gcn/data/Lameness/lameness-skeleton/train_label.pkl' \n",
    "test_pkl = '/media/mas-19/13E3-03F2/computer/Documents/tools/st-gcn/data/Lameness/lameness-skeleton/test_label.pkl' \n",
    "train_labels = count_labels(train_pkl)\n",
    "test_labels = count_labels(test_pkl)\n",
    "\n",
    "sets = ['Train', 'Test']\n",
    "class1 = np.array([train_labels[0,0], test_labels[0,0]])\n",
    "class2 = np.array([train_labels[0,1], test_labels[0,1]])\n",
    "class3 = np.array([train_labels[0,2], test_labels[0,2]])\n",
    "class4 = np.array([train_labels[0,3], test_labels[0,3]])\n",
    "\n",
    "ind = [x for x, _ in enumerate(sets)]\n",
    "\n",
    "plt.bar(ind, class1, width=0.8, label='Class 1', color='blue', bottom=class2+class3+class4)\n",
    "plt.bar(ind, class2, width=0.8, label='Class 2', color='green', bottom=class3+class4)\n",
    "plt.bar(ind, class3, width=0.8, label='Class 3', color='orange', bottom=class4)\n",
    "plt.bar(ind, class4, width=0.8, label='Class 4', color='red')\n",
    "\n",
    "plt.xticks(ind, sets)\n",
    "plt.ylabel(\"Cows\")\n",
    "plt.xlabel(\"Dataset\")\n",
    "plt.legend(loc=\"upper right\")\n",
    "plt.title(\"Class Distribution\")\n",
    "\n",
    "plt.show()"
   ]
  },
  {
   "cell_type": "code",
   "execution_count": 94,
   "metadata": {},
   "outputs": [
    {
     "data": {
      "image/png": "[encoded data removed]",
      "text/plain": [
       "<Figure size 432x288 with 1 Axes>"
      ]
     },
     "metadata": {
      "needs_background": "light"
     },
     "output_type": "display_data"
    }
   ],
   "source": [
    "total = class1 + class2 + class3 + class4\n",
    "class1_perc = (class1 / total) * 100\n",
    "class2_perc = (class2 / total) * 100\n",
    "class3_perc = (class3 / total) * 100\n",
    "class4_perc = (class4 / total) * 100\n",
    "\n",
    "plt.bar(ind, class1_perc, width=0.8, label='Class 1', color='blue', bottom=class2_perc+class3_perc+class4_perc)\n",
    "plt.bar(ind, class2_perc, width=0.8, label='Class 2', color='green', bottom=class3_perc+class4_perc)\n",
    "plt.bar(ind, class3_perc, width=0.8, label='Class 3', color='orange', bottom=class4_perc)\n",
    "plt.bar(ind, class4_perc, width=0.8, label='Class 4', color='red')\n",
    "\n",
    "plt.xticks(ind, sets)\n",
    "plt.ylabel(\"Cows\")\n",
    "plt.xlabel(\"Datasets\")\n",
    "plt.title(\"Data Distribution by Proportion\")\n",
    "plt.ylim=1.0\n",
    "\n",
    "# rotate axis labels\n",
    "plt.setp(plt.gca().get_xticklabels(), horizontalalignment='right')\n",
    "plt.legend(loc='center left', bbox_to_anchor=(1, 0.5))\n",
    "plt.show() "
   ]
  },
  {
   "cell_type": "markdown",
   "metadata": {},
   "source": [
    "## Functions"
   ]
  },
  {
   "cell_type": "code",
   "execution_count": 21,
   "metadata": {},
   "outputs": [],
   "source": [
    "def accuracy(confusion_matrix):\n",
    "    return (cm.trace() / cm.sum())\n",
    "\n",
    "def precision(confusion_matrix):\n",
    "    return (cm.diagonal() / np.sum(cm, axis=0))\n",
    "\n",
    "def recall(confusion_matrix):\n",
    "    return (cm.diagonal() / np.sum(cm, axis=1))\n",
    "    "
   ]
  },
  {
   "cell_type": "code",
   "execution_count": null,
   "metadata": {},
   "outputs": [],
   "source": []
  },
  {
   "cell_type": "code",
   "execution_count": null,
   "metadata": {},
   "outputs": [],
   "source": []
  },
  {
   "cell_type": "code",
   "execution_count": null,
   "metadata": {},
   "outputs": [],
   "source": []
  },
  {
   "cell_type": "markdown",
   "metadata": {},
   "source": [
    "## Confusion matrix for st-gcn results"
   ]
  },
  {
   "cell_type": "code",
   "execution_count": 5,
   "metadata": {},
   "outputs": [],
   "source": [
    "y_true = [3, 1, 0, 2, 3, 3, 0, 0, 2, 1, 1, 0, 1, 0, 1, 3, 0, 1, 0, 3, 0, 1, 3, 1, 2, 0, 1, 0, 0, 2, \n",
    "          1, 1, 0, 0, 2, 0, 1, 0, 1, 2, 1, 1, 1, 2, 0, 1, 0, 1, 0, 0, 2, 1, 2, 3, 0, 1, 2, 3, 0, 0, \n",
    "          2, 1, 2, 3, 2, 1, 0, 3, 0, 0, 1, 2, 1, 0, 1, 0, 3, 0, 0, 3, 2, 1, 0, 2, 2, 2, 0, 3, 0, 0, \n",
    "          1, 0, 0, 0, 0, 2, 1, 0, 2, 1, 0, 1, 0, 1, 0, 0, 0, 0, 2, 0, 0, 0, 2, 0, 2, 0, 0, 1, 0, 2, \n",
    "          1, 0, 0, 0, 2, 0, 2, 1, 0, 0, 1, 1, 3, 0, 0, 1, 2, 0, 0, 0, 3, 1, 3, 2, 1, 0, 2, 3, 0, 1, 1]\n",
    "\n",
    "y_pred = [2, 1, 0, 0, 2, 3, 0, 1, 2, 1, 1, 2, 1, 1, 1, 2, 1, 1, 0, 2, 0, 1, 2, 0, 2, 1, 2, 1, 1, 2, \n",
    "          2, 1, 1, 2, 0, 0, 1, 0, 1, 2, 1, 2, 1, 0, 1, 0, 2, 2, 0, 0, 2, 1, 0, 3, 1, 1, 0, 0, 0, 0, \n",
    "          1, 1, 1, 2, 2, 2, 1, 2, 1, 0, 1, 2, 1, 2, 0, 0, 0, 0, 0, 0, 2, 1, 1, 0, 2, 2, 1, 2, 0, 0, \n",
    "          1, 0, 0, 1, 1, 0, 1, 0, 3, 0, 1, 0, 0, 2, 0, 1, 0, 0, 1, 0, 2, 3, 2, 1, 0, 0, 1, 1, 0, 1, \n",
    "          2, 0, 1, 1, 1, 1, 2, 2, 0, 0, 0, 1, 3, 0, 1, 2, 3, 0, 0, 0, 3, 1, 1, 2, 1, 2, 1, 3, 1, 0, 0]"
   ]
  },
  {
   "cell_type": "code",
   "execution_count": 9,
   "metadata": {},
   "outputs": [
    {
     "name": "stdout",
     "output_type": "stream",
     "text": [
      "[[33 24  6  1]\n",
      " [ 8 24  9  0]\n",
      " [ 8  6 13  2]\n",
      " [ 3  1  8  5]] <class 'numpy.ndarray'>\n"
     ]
    }
   ],
   "source": [
    "cm = confusion_matrix(y_true, y_pred, labels=[0, 1, 2, 3])\n",
    "print(cm, type(cm))\n",
    "'''\n",
    "   ------ predicted -----\n",
    "   |\n",
    "   actual\n",
    "   |\n",
    "'''"
   ]
  },
  {
   "cell_type": "code",
   "execution_count": 30,
   "metadata": {},
   "outputs": [
    {
     "name": "stdout",
     "output_type": "stream",
     "text": [
      "accuracy:  0.4966887417218543\n",
      "\n",
      "label precision recall\n",
      "    0     0.635  0.516\n",
      "    1     0.436  0.585\n",
      "    2     0.361  0.448\n",
      "    3     0.625  0.294\n"
     ]
    }
   ],
   "source": [
    "print(\"accuracy: \", accuracy(cm))\n",
    "print()\n",
    "print(\"label precision recall\")\n",
    "for label in range(4):\n",
    "    print(\"{0:5d} {1:9.3f} {2:6.3f}\".format(label, precision(cm)[label], recall(cm)[label]))"
   ]
  },
  {
   "cell_type": "code",
   "execution_count": 29,
   "metadata": {},
   "outputs": [
    {
     "name": "stdout",
     "output_type": "stream",
     "text": [
      " 1 2.12\n"
     ]
    }
   ],
   "source": [
    "print(\"{0:2d} {1:3.2f}\".format(1,2.1234))"
   ]
  },
  {
   "cell_type": "code",
   "execution_count": 16,
   "metadata": {},
   "outputs": [
    {
     "data": {
      "text/plain": [
       "0.6346153846153846"
      ]
     },
     "execution_count": 16,
     "metadata": {},
     "output_type": "execute_result"
    }
   ],
   "source": [
    "def precision(label, confusion_matrix):\n",
    "    col = confusion_matrix[:, label]\n",
    "    return confusion_matrix[label, label] / col.sum()\n",
    "\n",
    "precision(0, cm)"
   ]
  },
  {
   "cell_type": "code",
   "execution_count": null,
   "metadata": {},
   "outputs": [],
   "source": []
  }
 ],
 "metadata": {
  "kernelspec": {
   "display_name": "Python 3",
   "language": "python",
   "name": "python3"
  },
  "language_info": {
   "codemirror_mode": {
    "name": "ipython",
    "version": 3
   },
   "file_extension": ".py",
   "mimetype": "text/x-python",
   "name": "python",
   "nbconvert_exporter": "python",
   "pygments_lexer": "ipython3",
   "version": "3.6.7"
  }
 },
 "nbformat": 4,
 "nbformat_minor": 2
}
