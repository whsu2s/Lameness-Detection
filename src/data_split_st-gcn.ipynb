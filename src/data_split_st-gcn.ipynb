{
 "cells": [
  {
   "cell_type": "code",
   "execution_count": 1,
   "metadata": {},
   "outputs": [],
   "source": [
    "import glob, os\n",
    "import random\n",
    "import shutil\n",
    "import json\n",
    "import pandas as pd"
   ]
  },
  {
   "cell_type": "code",
   "execution_count": 2,
   "metadata": {},
   "outputs": [],
   "source": [
    "# Util functions\n",
    "def tag_loc(tag):\n",
    "    return (tag + 1) if tag != 14 else 8\n",
    "\n",
    "def classify(score):\n",
    "    if score < 2:\n",
    "        label_index = 1\n",
    "    elif score >= 2 and score < 3:\n",
    "        label_index = 2\n",
    "    elif score >= 3 and score < 4:\n",
    "        label_index = 3\n",
    "    elif score >= 4:\n",
    "        label_index = 4\n",
    "   \n",
    "    return label_index\n"
   ]
  },
  {
   "cell_type": "code",
   "execution_count": null,
   "metadata": {},
   "outputs": [],
   "source": []
  },
  {
   "cell_type": "markdown",
   "metadata": {},
   "source": [
    "## Split data into training and test set"
   ]
  },
  {
   "cell_type": "code",
   "execution_count": 107,
   "metadata": {},
   "outputs": [
    {
     "name": "stdout",
     "output_type": "stream",
     "text": [
      "Before shuffle:  ['cow239-3.json', 'cow1-14.json', 'cow1407-6.json', 'cow1407-1.json', 'cow161-0.json']\n",
      "After shuffle:  ['cow234-2.json', 'cow24-3.json', 'cow80-14.json', 'cow254-2.json', 'cow56-4.json']\n"
     ]
    }
   ],
   "source": [
    "# Shuffle dataset\n",
    "datadir = '/home/wei-chan.hsu/Dokumente/Thesis/src/annotation/data/all/data_json/'\n",
    "all_files = os.listdir(os.path.abspath(datadir))\n",
    "data_files = list(filter(lambda file: file.endswith('.json'), all_files))\n",
    "\n",
    "print(\"Before shuffle: \", data_files[:5])\n",
    "random.shuffle(data_files)\n",
    "print(\"After shuffle: \", data_files[:5])"
   ]
  },
  {
   "cell_type": "code",
   "execution_count": 108,
   "metadata": {},
   "outputs": [
    {
     "name": "stdout",
     "output_type": "stream",
     "text": [
      "Training set (350 samples):  ['cow234-2.json', 'cow24-3.json', 'cow80-14.json', 'cow254-2.json', 'cow56-4.json']\n",
      "Test set (151 samples):  ['cow1403-4.json', 'cow190-4.json', 'cow264-1.json', 'cow204-7.json', 'cow161-6.json']\n"
     ]
    }
   ],
   "source": [
    "# SPlit data into two sets\n",
    "split_ratio = 0.7\n",
    "split = int(split_ratio * len(data_files))\n",
    "training_set = data_files[:split]\n",
    "test_set = data_files[split:]\n",
    "\n",
    "print(\"Training set ({} samples): \".format(len(training_set)), training_set[:5])\n",
    "print(\"Test set ({} samples): \".format(len(test_set)), test_set[:5])"
   ]
  },
  {
   "cell_type": "code",
   "execution_count": 123,
   "metadata": {},
   "outputs": [],
   "source": [
    "def copy_files(src, dst):\n",
    "    for file in src:\n",
    "        shutil.copy(file, dst)"
   ]
  },
  {
   "cell_type": "code",
   "execution_count": 122,
   "metadata": {},
   "outputs": [
    {
     "data": {
      "text/plain": [
       "'/home/wei-chan.hsu/Dokumente/Thesis/src/input_st-gcn/cows_train/'"
      ]
     },
     "execution_count": 122,
     "metadata": {},
     "output_type": "execute_result"
    }
   ],
   "source": [
    "dst_train = '/home/wei-chan.hsu/Dokumente/Thesis/src/input_st-gcn/cows_train/'\n",
    "dst_train"
   ]
  },
  {
   "cell_type": "code",
   "execution_count": 127,
   "metadata": {},
   "outputs": [
    {
     "name": "stdout",
     "output_type": "stream",
     "text": [
      "['/home']\n"
     ]
    }
   ],
   "source": [
    "# Copy JSON files into directories \n",
    "src_train = [(datadir + file) for file in training_set]\n",
    "src_test = [(datadir + file) for file in test_set]\n",
    "dst_train = '/home/wei-chan.hsu/Dokumente/Thesis/src/input_st-gcn/lameness/cows_train/'\n",
    "dst_test = '/home/wei-chan.hsu/Dokumente/Thesis/src/input_st-gcn/lameness/cows_test/'\n",
    "\n",
    "copy_files(src_train, dst_train)\n",
    "copy_files(src_test, dst_test)\n",
    "\n",
    "print(glob.glob(dst_train[:5]))"
   ]
  },
  {
   "cell_type": "code",
   "execution_count": 129,
   "metadata": {},
   "outputs": [],
   "source": [
    "# Generate trainig and test label files\n",
    "label_table = pd.read_csv('/home/wei-chan.hsu/Dokumente/Thesis/src/annotation/data_labels.csv')\n",
    "\n",
    "def files2labels(dataset, vname):\n",
    "    data_dict = {}\n",
    "    for file in dataset:\n",
    "        files.append(os.path.splitext(f)[0])\n",
    "        filename = file.split('.')[0]\n",
    "        cow_id = filename.split('-')[0]\n",
    "        tag = filename.split('-')[1]\n",
    "        label = label_table[(label_table['cow_id'] == cow_id)].iloc[0, tag_loc(int(tag))]\n",
    "        item = {\n",
    "            \"has_skeleton\": True, \n",
    "            \"label\": label,\n",
    "            \"label_index\": classify(label)\n",
    "        }\n",
    "        data_dict[filename] = item\n",
    "        #with open(\"/home/wei-chan.hsu/Dokumente/Thesis/src/input_st-gcn/{}.txt\".format(vname), \"a\") as f:\n",
    "            #f.write(\"text\\n\")\n",
    "    with open(\"/home/wei-chan.hsu/Dokumente/Thesis/src/input_st-gcn/lameness/{}.json\".format(vname), \"w\") as out_file:\n",
    "        json.dump(data_dict, out_file, indent=4)   \n",
    "\n",
    "files2labels(training_set, 'train_label')  \n",
    "files2labels(test_set, 'test_label')  "
   ]
  },
  {
   "cell_type": "code",
   "execution_count": null,
   "metadata": {},
   "outputs": [],
   "source": []
  },
  {
   "cell_type": "code",
   "execution_count": null,
   "metadata": {},
   "outputs": [],
   "source": []
  },
  {
   "cell_type": "code",
   "execution_count": null,
   "metadata": {},
   "outputs": [],
   "source": []
  }
 ],
 "metadata": {
  "kernelspec": {
   "display_name": "Python 3",
   "language": "python",
   "name": "python3"
  },
  "language_info": {
   "codemirror_mode": {
    "name": "ipython",
    "version": 3
   },
   "file_extension": ".py",
   "mimetype": "text/x-python",
   "name": "python",
   "nbconvert_exporter": "python",
   "pygments_lexer": "ipython3",
   "version": "3.7.1"
  }
 },
 "nbformat": 4,
 "nbformat_minor": 2
}
